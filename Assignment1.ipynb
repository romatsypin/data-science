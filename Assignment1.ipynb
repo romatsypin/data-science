{
 "cells": [
  {
   "cell_type": "markdown",
   "id": "2a4de844",
   "metadata": {},
   "source": [
    "## Do the imports"
   ]
  },
  {
   "cell_type": "code",
   "execution_count": 266,
   "id": "c5ed799f",
   "metadata": {},
   "outputs": [],
   "source": [
    "import matplotlib.pyplot as plt\n",
    "import numpy as np\n",
    "import pandas as pd\n",
    "import seaborn as sns\n",
    "\n",
    "from sklearn.model_selection import train_test_split\n",
    "from sklearn.neighbors import KNeighborsClassifier"
   ]
  },
  {
   "cell_type": "markdown",
   "id": "f984c545",
   "metadata": {},
   "source": [
    "## Import and view the data"
   ]
  },
  {
   "cell_type": "code",
   "execution_count": 267,
   "id": "7c32c975",
   "metadata": {},
   "outputs": [],
   "source": [
    "data = pd.read_excel(\"twitter.xlsx\")"
   ]
  },
  {
   "cell_type": "code",
   "execution_count": 268,
   "id": "f689390f",
   "metadata": {},
   "outputs": [
    {
     "data": {
      "text/plain": "    Column1.created_at       Date      Time  \\\n0  Wed Dec 01 08:10:06 2001-12-01  08:10:06   \n1  Wed Dec 01 08:09:59 2001-12-01  08:09:59   \n2  Wed Dec 01 08:09:47 2001-12-01  08:09:47   \n3  Wed Dec 01 05:05:35 2001-12-01  05:05:35   \n4  Wed Dec 01 03:38:59 2001-12-01  03:38:59   \n\n                                        Column1.text Own or Retweet?  \\\n0  RT @IGN: In this new trailer, Master Chief car...        Retweet    \n1  RT @Woodkid: Thank you @HIDEO_KOJIMA_EN ! http...        Retweet    \n2  RT @DannyBoi_2077: Truck ran out of juice.. so...        Retweet    \n3  RT @DannyBoi_2077: My reaction when the day DS...        Retweet    \n4  RT @RetroNewsNow: 🎄On November 30, 1977, durin...        Retweet    \n\n   Column1.truncated Column1.metadata  \\\n0              False         [Record]   \n1              False         [Record]   \n2              False         [Record]   \n3              False         [Record]   \n4              False         [Record]   \n\n                                      Column1.source            Source  \\\n0  <a href=\"https://mobile.twitter.com\" rel=\"nofo...  Twitter Web App    \n1  <a href=\"https://mobile.twitter.com\" rel=\"nofo...  Twitter Web App    \n2  <a href=\"https://mobile.twitter.com\" rel=\"nofo...  Twitter Web App    \n3  <a href=\"https://mobile.twitter.com\" rel=\"nofo...  Twitter Web App    \n4  <a href=\"http://twitter.com/download/iphone\" r...            iPhone   \n\n   Column1.is_quote_status  Column1.retweet_count  Column1.favorite_count  \\\n0                    False                    246                       0   \n1                    False                    273                       0   \n2                    False                     16                       0   \n3                    False                     17                       0   \n4                    False                    314                       0   \n\n  Column1.lang  \n0           en  \n1           en  \n2           en  \n3           en  \n4           en  ",
      "text/html": "<div>\n<style scoped>\n    .dataframe tbody tr th:only-of-type {\n        vertical-align: middle;\n    }\n\n    .dataframe tbody tr th {\n        vertical-align: top;\n    }\n\n    .dataframe thead th {\n        text-align: right;\n    }\n</style>\n<table border=\"1\" class=\"dataframe\">\n  <thead>\n    <tr style=\"text-align: right;\">\n      <th></th>\n      <th>Column1.created_at</th>\n      <th>Date</th>\n      <th>Time</th>\n      <th>Column1.text</th>\n      <th>Own or Retweet?</th>\n      <th>Column1.truncated</th>\n      <th>Column1.metadata</th>\n      <th>Column1.source</th>\n      <th>Source</th>\n      <th>Column1.is_quote_status</th>\n      <th>Column1.retweet_count</th>\n      <th>Column1.favorite_count</th>\n      <th>Column1.lang</th>\n    </tr>\n  </thead>\n  <tbody>\n    <tr>\n      <th>0</th>\n      <td>Wed Dec 01 08:10:06</td>\n      <td>2001-12-01</td>\n      <td>08:10:06</td>\n      <td>RT @IGN: In this new trailer, Master Chief car...</td>\n      <td>Retweet</td>\n      <td>False</td>\n      <td>[Record]</td>\n      <td>&lt;a href=\"https://mobile.twitter.com\" rel=\"nofo...</td>\n      <td>Twitter Web App</td>\n      <td>False</td>\n      <td>246</td>\n      <td>0</td>\n      <td>en</td>\n    </tr>\n    <tr>\n      <th>1</th>\n      <td>Wed Dec 01 08:09:59</td>\n      <td>2001-12-01</td>\n      <td>08:09:59</td>\n      <td>RT @Woodkid: Thank you @HIDEO_KOJIMA_EN ! http...</td>\n      <td>Retweet</td>\n      <td>False</td>\n      <td>[Record]</td>\n      <td>&lt;a href=\"https://mobile.twitter.com\" rel=\"nofo...</td>\n      <td>Twitter Web App</td>\n      <td>False</td>\n      <td>273</td>\n      <td>0</td>\n      <td>en</td>\n    </tr>\n    <tr>\n      <th>2</th>\n      <td>Wed Dec 01 08:09:47</td>\n      <td>2001-12-01</td>\n      <td>08:09:47</td>\n      <td>RT @DannyBoi_2077: Truck ran out of juice.. so...</td>\n      <td>Retweet</td>\n      <td>False</td>\n      <td>[Record]</td>\n      <td>&lt;a href=\"https://mobile.twitter.com\" rel=\"nofo...</td>\n      <td>Twitter Web App</td>\n      <td>False</td>\n      <td>16</td>\n      <td>0</td>\n      <td>en</td>\n    </tr>\n    <tr>\n      <th>3</th>\n      <td>Wed Dec 01 05:05:35</td>\n      <td>2001-12-01</td>\n      <td>05:05:35</td>\n      <td>RT @DannyBoi_2077: My reaction when the day DS...</td>\n      <td>Retweet</td>\n      <td>False</td>\n      <td>[Record]</td>\n      <td>&lt;a href=\"https://mobile.twitter.com\" rel=\"nofo...</td>\n      <td>Twitter Web App</td>\n      <td>False</td>\n      <td>17</td>\n      <td>0</td>\n      <td>en</td>\n    </tr>\n    <tr>\n      <th>4</th>\n      <td>Wed Dec 01 03:38:59</td>\n      <td>2001-12-01</td>\n      <td>03:38:59</td>\n      <td>RT @RetroNewsNow: 🎄On November 30, 1977, durin...</td>\n      <td>Retweet</td>\n      <td>False</td>\n      <td>[Record]</td>\n      <td>&lt;a href=\"http://twitter.com/download/iphone\" r...</td>\n      <td>iPhone</td>\n      <td>False</td>\n      <td>314</td>\n      <td>0</td>\n      <td>en</td>\n    </tr>\n  </tbody>\n</table>\n</div>"
     },
     "execution_count": 268,
     "metadata": {},
     "output_type": "execute_result"
    }
   ],
   "source": [
    "data.head()"
   ]
  },
  {
   "cell_type": "markdown",
   "id": "4884729d",
   "metadata": {},
   "source": [
    "## Subset the columns for analysis"
   ]
  },
  {
   "cell_type": "code",
   "execution_count": 269,
   "id": "f4127cea",
   "metadata": {},
   "outputs": [],
   "source": [
    "data1 = data[[\"Column1.text\", \"Own or Retweet?\", \"Column1.retweet_count\"]]"
   ]
  },
  {
   "cell_type": "code",
   "execution_count": 270,
   "id": "088a4d45",
   "metadata": {},
   "outputs": [
    {
     "data": {
      "text/plain": "                                        Column1.text Own or Retweet?  \\\n0  RT @IGN: In this new trailer, Master Chief car...        Retweet    \n1  RT @Woodkid: Thank you @HIDEO_KOJIMA_EN ! http...        Retweet    \n2  RT @DannyBoi_2077: Truck ran out of juice.. so...        Retweet    \n3  RT @DannyBoi_2077: My reaction when the day DS...        Retweet    \n4  RT @RetroNewsNow: 🎄On November 30, 1977, durin...        Retweet    \n\n   Column1.retweet_count  \n0                    246  \n1                    273  \n2                     16  \n3                     17  \n4                    314  ",
      "text/html": "<div>\n<style scoped>\n    .dataframe tbody tr th:only-of-type {\n        vertical-align: middle;\n    }\n\n    .dataframe tbody tr th {\n        vertical-align: top;\n    }\n\n    .dataframe thead th {\n        text-align: right;\n    }\n</style>\n<table border=\"1\" class=\"dataframe\">\n  <thead>\n    <tr style=\"text-align: right;\">\n      <th></th>\n      <th>Column1.text</th>\n      <th>Own or Retweet?</th>\n      <th>Column1.retweet_count</th>\n    </tr>\n  </thead>\n  <tbody>\n    <tr>\n      <th>0</th>\n      <td>RT @IGN: In this new trailer, Master Chief car...</td>\n      <td>Retweet</td>\n      <td>246</td>\n    </tr>\n    <tr>\n      <th>1</th>\n      <td>RT @Woodkid: Thank you @HIDEO_KOJIMA_EN ! http...</td>\n      <td>Retweet</td>\n      <td>273</td>\n    </tr>\n    <tr>\n      <th>2</th>\n      <td>RT @DannyBoi_2077: Truck ran out of juice.. so...</td>\n      <td>Retweet</td>\n      <td>16</td>\n    </tr>\n    <tr>\n      <th>3</th>\n      <td>RT @DannyBoi_2077: My reaction when the day DS...</td>\n      <td>Retweet</td>\n      <td>17</td>\n    </tr>\n    <tr>\n      <th>4</th>\n      <td>RT @RetroNewsNow: 🎄On November 30, 1977, durin...</td>\n      <td>Retweet</td>\n      <td>314</td>\n    </tr>\n  </tbody>\n</table>\n</div>"
     },
     "execution_count": 270,
     "metadata": {},
     "output_type": "execute_result"
    }
   ],
   "source": [
    "data1.head()"
   ]
  },
  {
   "cell_type": "code",
   "execution_count": 271,
   "id": "9b363f7e",
   "metadata": {},
   "outputs": [
    {
     "name": "stderr",
     "output_type": "stream",
     "text": [
      "<ipython-input-271-0cbd1ba97dd5>:1: SettingWithCopyWarning: \n",
      "A value is trying to be set on a copy of a slice from a DataFrame.\n",
      "Try using .loc[row_indexer,col_indexer] = value instead\n",
      "\n",
      "See the caveats in the documentation: https://pandas.pydata.org/pandas-docs/stable/user_guide/indexing.html#returning-a-view-versus-a-copy\n",
      "  data1[\"Tweet Length\"] = data1[\"Column1.text\"].map(len)\n"
     ]
    }
   ],
   "source": [
    "data1[\"Tweet Length\"] = data1[\"Column1.text\"].map(len)"
   ]
  },
  {
   "cell_type": "markdown",
   "id": "cb3fb7d4",
   "metadata": {},
   "source": [
    "## Create dummies to ease the analysis and normalize data to logarithmic scale"
   ]
  },
  {
   "cell_type": "code",
   "execution_count": 272,
   "id": "b9aa46d4",
   "metadata": {},
   "outputs": [
    {
     "name": "stderr",
     "output_type": "stream",
     "text": [
      "<ipython-input-272-06242cb85e91>:1: SettingWithCopyWarning: \n",
      "A value is trying to be set on a copy of a slice from a DataFrame.\n",
      "Try using .loc[row_indexer,col_indexer] = value instead\n",
      "\n",
      "See the caveats in the documentation: https://pandas.pydata.org/pandas-docs/stable/user_guide/indexing.html#returning-a-view-versus-a-copy\n",
      "  data1[\"Retweet\"] = pd.get_dummies(data1[\"Own or Retweet?\"])[\"Retweet \"] #Converting string values into binary and renaming the column to not to have a space at the end\n"
     ]
    }
   ],
   "source": [
    "data1[\"Retweet\"] = pd.get_dummies(data1[\"Own or Retweet?\"])[\"Retweet \"] #Converting string values into binary and renaming the column to not to have a space at the end\n",
    "data1 = data1.drop([\"Own or Retweet?\", \"Column1.text\"], axis = 1)"
   ]
  },
  {
   "cell_type": "code",
   "execution_count": 273,
   "outputs": [],
   "source": [
    "data1[\"retweet_normalized\"] = data1[\"Column1.retweet_count\"].apply(lambda value: np.log(value))\n",
    "data1[\"length_normalized\"] = data1[\"Tweet Length\"].apply(lambda value: np.log(value))"
   ],
   "metadata": {
    "collapsed": false,
    "pycharm": {
     "name": "#%%\n"
    }
   }
  },
  {
   "cell_type": "markdown",
   "id": "1e336823",
   "metadata": {},
   "source": [
    "## Split data into train and test"
   ]
  },
  {
   "cell_type": "code",
   "execution_count": 274,
   "id": "2e913229",
   "metadata": {},
   "outputs": [],
   "source": [
    "x = data1[[\"Column1.retweet_count\", \"Tweet Length\"]]\n",
    "y = data1[\"Retweet\"]\n",
    "x_normalized = data1[[\"retweet_normalized\", \"length_normalized\"]]\n",
    "#y = a + bX + e"
   ]
  },
  {
   "cell_type": "code",
   "execution_count": 275,
   "id": "0f156981",
   "metadata": {},
   "outputs": [],
   "source": [
    "x_train, x_test, y_train, y_test= train_test_split(x, y,\n",
    "                                                   test_size= 0.2,\n",
    "                                                   shuffle= True, #shuffle the data to avoid bias\n",
    "                                                   random_state= 0)"
   ]
  },
  {
   "cell_type": "code",
   "execution_count": 276,
   "id": "56c73d3b",
   "metadata": {},
   "outputs": [],
   "source": [
    "normalized_x_train, normalized_x_test, ny_train, ny_test= train_test_split(x_normalized, y,\n",
    "                                                   test_size= 0.2,\n",
    "                                                   shuffle= True, #shuffle the data to avoid bias\n",
    "                                                   random_state= 0)"
   ]
  },
  {
   "cell_type": "markdown",
   "id": "18d5c1c7",
   "metadata": {},
   "source": [
    "## Initiate and fit the classifier"
   ]
  },
  {
   "cell_type": "code",
   "execution_count": 277,
   "id": "754c0759",
   "metadata": {},
   "outputs": [],
   "source": [
    "knn=KNeighborsClassifier()"
   ]
  },
  {
   "cell_type": "code",
   "execution_count": 278,
   "id": "31448853",
   "metadata": {},
   "outputs": [
    {
     "data": {
      "text/plain": "KNeighborsClassifier()"
     },
     "execution_count": 278,
     "metadata": {},
     "output_type": "execute_result"
    }
   ],
   "source": [
    "knn.fit(x_train,y_train)"
   ]
  },
  {
   "cell_type": "code",
   "execution_count": 279,
   "id": "9d9174c9",
   "metadata": {},
   "outputs": [
    {
     "name": "stdout",
     "output_type": "stream",
     "text": [
      "0.6\n"
     ]
    }
   ],
   "source": [
    "## View the score in automatic and manual way\n",
    "print(knn.score(x_test,y_test))"
   ]
  },
  {
   "cell_type": "code",
   "execution_count": 280,
   "id": "4bd8102c",
   "metadata": {},
   "outputs": [
    {
     "name": "stderr",
     "output_type": "stream",
     "text": [
      "<ipython-input-280-cfedae2bf346>:3: SettingWithCopyWarning: \n",
      "A value is trying to be set on a copy of a slice from a DataFrame.\n",
      "Try using .loc[row_indexer,col_indexer] = value instead\n",
      "\n",
      "See the caveats in the documentation: https://pandas.pydata.org/pandas-docs/stable/user_guide/indexing.html#returning-a-view-versus-a-copy\n",
      "  check[\"prediction\"] = prediction\n"
     ]
    },
    {
     "data": {
      "text/plain": "    Column1.retweet_count  Tweet Length  prediction  real  Correct?\n2                      16           137           1     1      True\n7                      87            33           1     0     False\n8                     433           140           1     1      True\n13                     14           140           1     1      True\n16                     73           106           1     1      True\n22                    759            57           0     0      True\n24                      5            77           1     0     False\n26                     14           140           1     0     False\n30                    253            98           1     0     False\n33                     94           140           1     1      True\n53                    161           135           1     1      True\n54                     31            51           0     0      True\n55                     61           114           0     1     False\n73                    171            83           0     1     False\n75                     18           140           1     0     False\n78                    289           140           1     1      True\n86                     23           140           1     1      True\n92                     13           112           1     1      True\n93                     21           140           1     0     False\n95                    161           101           1     1      True",
      "text/html": "<div>\n<style scoped>\n    .dataframe tbody tr th:only-of-type {\n        vertical-align: middle;\n    }\n\n    .dataframe tbody tr th {\n        vertical-align: top;\n    }\n\n    .dataframe thead th {\n        text-align: right;\n    }\n</style>\n<table border=\"1\" class=\"dataframe\">\n  <thead>\n    <tr style=\"text-align: right;\">\n      <th></th>\n      <th>Column1.retweet_count</th>\n      <th>Tweet Length</th>\n      <th>prediction</th>\n      <th>real</th>\n      <th>Correct?</th>\n    </tr>\n  </thead>\n  <tbody>\n    <tr>\n      <th>2</th>\n      <td>16</td>\n      <td>137</td>\n      <td>1</td>\n      <td>1</td>\n      <td>True</td>\n    </tr>\n    <tr>\n      <th>7</th>\n      <td>87</td>\n      <td>33</td>\n      <td>1</td>\n      <td>0</td>\n      <td>False</td>\n    </tr>\n    <tr>\n      <th>8</th>\n      <td>433</td>\n      <td>140</td>\n      <td>1</td>\n      <td>1</td>\n      <td>True</td>\n    </tr>\n    <tr>\n      <th>13</th>\n      <td>14</td>\n      <td>140</td>\n      <td>1</td>\n      <td>1</td>\n      <td>True</td>\n    </tr>\n    <tr>\n      <th>16</th>\n      <td>73</td>\n      <td>106</td>\n      <td>1</td>\n      <td>1</td>\n      <td>True</td>\n    </tr>\n    <tr>\n      <th>22</th>\n      <td>759</td>\n      <td>57</td>\n      <td>0</td>\n      <td>0</td>\n      <td>True</td>\n    </tr>\n    <tr>\n      <th>24</th>\n      <td>5</td>\n      <td>77</td>\n      <td>1</td>\n      <td>0</td>\n      <td>False</td>\n    </tr>\n    <tr>\n      <th>26</th>\n      <td>14</td>\n      <td>140</td>\n      <td>1</td>\n      <td>0</td>\n      <td>False</td>\n    </tr>\n    <tr>\n      <th>30</th>\n      <td>253</td>\n      <td>98</td>\n      <td>1</td>\n      <td>0</td>\n      <td>False</td>\n    </tr>\n    <tr>\n      <th>33</th>\n      <td>94</td>\n      <td>140</td>\n      <td>1</td>\n      <td>1</td>\n      <td>True</td>\n    </tr>\n    <tr>\n      <th>53</th>\n      <td>161</td>\n      <td>135</td>\n      <td>1</td>\n      <td>1</td>\n      <td>True</td>\n    </tr>\n    <tr>\n      <th>54</th>\n      <td>31</td>\n      <td>51</td>\n      <td>0</td>\n      <td>0</td>\n      <td>True</td>\n    </tr>\n    <tr>\n      <th>55</th>\n      <td>61</td>\n      <td>114</td>\n      <td>0</td>\n      <td>1</td>\n      <td>False</td>\n    </tr>\n    <tr>\n      <th>73</th>\n      <td>171</td>\n      <td>83</td>\n      <td>0</td>\n      <td>1</td>\n      <td>False</td>\n    </tr>\n    <tr>\n      <th>75</th>\n      <td>18</td>\n      <td>140</td>\n      <td>1</td>\n      <td>0</td>\n      <td>False</td>\n    </tr>\n    <tr>\n      <th>78</th>\n      <td>289</td>\n      <td>140</td>\n      <td>1</td>\n      <td>1</td>\n      <td>True</td>\n    </tr>\n    <tr>\n      <th>86</th>\n      <td>23</td>\n      <td>140</td>\n      <td>1</td>\n      <td>1</td>\n      <td>True</td>\n    </tr>\n    <tr>\n      <th>92</th>\n      <td>13</td>\n      <td>112</td>\n      <td>1</td>\n      <td>1</td>\n      <td>True</td>\n    </tr>\n    <tr>\n      <th>93</th>\n      <td>21</td>\n      <td>140</td>\n      <td>1</td>\n      <td>0</td>\n      <td>False</td>\n    </tr>\n    <tr>\n      <th>95</th>\n      <td>161</td>\n      <td>101</td>\n      <td>1</td>\n      <td>1</td>\n      <td>True</td>\n    </tr>\n  </tbody>\n</table>\n</div>"
     },
     "execution_count": 280,
     "metadata": {},
     "output_type": "execute_result"
    }
   ],
   "source": [
    "prediction = knn.predict(x_test)\n",
    "check = x_test[:]\n",
    "check[\"prediction\"] = prediction\n",
    "check = check.sort_index()\n",
    "a = list(check.index.values)\n",
    "check[\"real\"] = data1.iloc[a, :][\"Retweet\"]\n",
    "check[\"Correct?\"] = (check[\"prediction\"] == check[\"real\"])\n",
    "check"
   ]
  },
  {
   "cell_type": "markdown",
   "id": "889ca7c8",
   "metadata": {},
   "source": [
    "## Classify an abstract tweet"
   ]
  },
  {
   "cell_type": "code",
   "execution_count": 281,
   "id": "3b2e0e25",
   "metadata": {},
   "outputs": [
    {
     "data": {
      "text/plain": "0"
     },
     "execution_count": 281,
     "metadata": {},
     "output_type": "execute_result"
    }
   ],
   "source": [
    "knn.predict([[1000, 10]])[0]"
   ]
  },
  {
   "cell_type": "markdown",
   "id": "39354d49",
   "metadata": {},
   "source": [
    "## Fit and score the normalized classifier"
   ]
  },
  {
   "cell_type": "code",
   "execution_count": 282,
   "id": "5c218717",
   "metadata": {},
   "outputs": [
    {
     "name": "stdout",
     "output_type": "stream",
     "text": [
      "0.65\n"
     ]
    }
   ],
   "source": [
    "knn=KNeighborsClassifier()\n",
    "knn.fit(normalized_x_train,y_train)\n",
    "print(knn.score(normalized_x_test,y_test))"
   ]
  },
  {
   "cell_type": "markdown",
   "id": "26aeb70c",
   "metadata": {},
   "source": [
    "## Predict with the normalized classifier"
   ]
  },
  {
   "cell_type": "code",
   "execution_count": 283,
   "id": "d96af735",
   "metadata": {},
   "outputs": [
    {
     "data": {
      "text/plain": "0"
     },
     "execution_count": 283,
     "metadata": {},
     "output_type": "execute_result"
    }
   ],
   "source": [
    "knn.predict([[np.log(1000), np.log(10)]])[0]"
   ]
  },
  {
   "cell_type": "markdown",
   "id": "770b1e0a",
   "metadata": {},
   "source": [
    "## Viewing the data"
   ]
  },
  {
   "cell_type": "code",
   "execution_count": 284,
   "id": "5f66af50",
   "metadata": {},
   "outputs": [
    {
     "data": {
      "text/plain": "<matplotlib.legend.Legend at 0x217faf06a90>"
     },
     "execution_count": 284,
     "metadata": {},
     "output_type": "execute_result"
    },
    {
     "data": {
      "text/plain": "<Figure size 432x288 with 1 Axes>",
      "image/png": "[encoded data removed]"
     },
     "metadata": {
      "needs_background": "light"
     },
     "output_type": "display_data"
    }
   ],
   "source": [
    "ax = sns.scatterplot(data = pd.DataFrame(np.c_[x_train, y_train]), x = 0, y = 1, hue = 2)\n",
    "plt.xlabel('Retweets')\n",
    "plt.ylabel(\"Tweet Length\")\n",
    "handles, labels  =  ax.get_legend_handles_labels()\n",
    "ax.legend(handles, ['Own', 'Retweet'], loc='lower right')"
   ]
  },
  {
   "cell_type": "code",
   "execution_count": 285,
   "id": "8813cd38",
   "metadata": {},
   "outputs": [
    {
     "data": {
      "text/plain": "<Figure size 432x288 with 1 Axes>",
      "image/png": "[encoded data removed]"
     },
     "metadata": {
      "needs_background": "light"
     },
     "output_type": "display_data"
    }
   ],
   "source": [
    "ax = sns.scatterplot(data = pd.DataFrame(np.c_[normalized_x_train, ny_train]), x = 0, y = 1, hue = 2)\n",
    "plt.xlabel('Retweets')\n",
    "plt.ylabel(\"Tweet Length\")\n",
    "#The plot get handles and labels from the previous plot, so no need to declare them again\n",
    "ax.legend(handles, ['Own', 'Retweet'], loc='lower right')\n",
    "ax = plt.plot()"
   ]
  },
  {
   "cell_type": "markdown",
   "id": "c1c4fb43",
   "metadata": {},
   "source": [
    "## Let's play with the K"
   ]
  },
  {
   "cell_type": "code",
   "execution_count": 286,
   "id": "4e1e0eb2",
   "metadata": {},
   "outputs": [
    {
     "name": "stdout",
     "output_type": "stream",
     "text": [
      "0.55\n"
     ]
    }
   ],
   "source": [
    "knn=KNeighborsClassifier(3)\n",
    "knn.fit(normalized_x_train,ny_train)\n",
    "print(knn.score(normalized_x_test, ny_test))"
   ]
  },
  {
   "cell_type": "code",
   "execution_count": 287,
   "id": "cd0ffb08",
   "metadata": {},
   "outputs": [
    {
     "name": "stdout",
     "output_type": "stream",
     "text": [
      "0.7\n"
     ]
    }
   ],
   "source": [
    "knn=KNeighborsClassifier(7)\n",
    "knn.fit(normalized_x_train,ny_train)\n",
    "print(knn.score(normalized_x_test, ny_test))"
   ]
  },
  {
   "cell_type": "code",
   "execution_count": 288,
   "id": "c584b60f",
   "metadata": {},
   "outputs": [
    {
     "name": "stdout",
     "output_type": "stream",
     "text": [
      "0.75\n"
     ]
    }
   ],
   "source": [
    "knn=KNeighborsClassifier(9)\n",
    "knn.fit(normalized_x_train,ny_train)\n",
    "print(knn.score(normalized_x_test, ny_test))"
   ]
  },
  {
   "cell_type": "code",
   "execution_count": 289,
   "id": "7d1fed64",
   "metadata": {},
   "outputs": [
    {
     "name": "stdout",
     "output_type": "stream",
     "text": [
      "0.7\n"
     ]
    }
   ],
   "source": [
    "knn=KNeighborsClassifier(11)\n",
    "knn.fit(normalized_x_train,ny_train)\n",
    "print(knn.score(normalized_x_test, ny_test))"
   ]
  },
  {
   "cell_type": "code",
   "execution_count": 290,
   "id": "1da27eca",
   "metadata": {},
   "outputs": [
    {
     "name": "stdout",
     "output_type": "stream",
     "text": [
      "0.7\n"
     ]
    }
   ],
   "source": [
    "knn=KNeighborsClassifier(15)\n",
    "knn.fit(normalized_x_train,ny_train)\n",
    "print(knn.score(normalized_x_test, ny_test))"
   ]
  },
  {
   "cell_type": "code",
   "execution_count": 291,
   "id": "675897ac",
   "metadata": {},
   "outputs": [
    {
     "name": "stdout",
     "output_type": "stream",
     "text": [
      "0.65\n"
     ]
    }
   ],
   "source": [
    "knn=KNeighborsClassifier(19)\n",
    "knn.fit(normalized_x_train,ny_train)\n",
    "print(knn.score(normalized_x_test, ny_test))"
   ]
  },
  {
   "cell_type": "markdown",
   "id": "10fb7524",
   "metadata": {},
   "source": [
    "# Let's use the best K and change the train/split"
   ]
  },
  {
   "cell_type": "code",
   "execution_count": 292,
   "id": "22deebf2",
   "metadata": {},
   "outputs": [
    {
     "name": "stdout",
     "output_type": "stream",
     "text": [
      "7 neighbours: 0.6\n",
      "9 neighbours: 0.6\n",
      "11 neighbours: 0.6\n"
     ]
    }
   ],
   "source": [
    "normalized_x_train, normalized_x_test, ny_train, ny_test= train_test_split(x_normalized, y,\n",
    "                                                   test_size= 0.05,\n",
    "                                                   shuffle= True, #shuffle the data to avoid bias\n",
    "                                                   random_state= 0)\n",
    "knn=KNeighborsClassifier(7)\n",
    "knn.fit(normalized_x_train,ny_train)\n",
    "print('7 neighbours: ' + str(knn.score(normalized_x_test,ny_test)))\n",
    "knn=KNeighborsClassifier(9)\n",
    "knn.fit(normalized_x_train,ny_train)\n",
    "print('9 neighbours: ' + str(knn.score(normalized_x_test,ny_test)))\n",
    "knn=KNeighborsClassifier(11)\n",
    "knn.fit(normalized_x_train,ny_train)\n",
    "print('11 neighbours: ' + str(knn.score(normalized_x_test,ny_test)))"
   ]
  },
  {
   "cell_type": "code",
   "execution_count": 293,
   "id": "acb0be28",
   "metadata": {},
   "outputs": [
    {
     "name": "stdout",
     "output_type": "stream",
     "text": [
      "7 neighbours: 0.6666666666666666\n",
      "9 neighbours: 0.6666666666666666\n",
      "11 neighbours: 0.6333333333333333\n"
     ]
    }
   ],
   "source": [
    "normalized_x_train, normalized_x_test, ny_train, ny_test= train_test_split(x_normalized, y,\n",
    "                                                   test_size= 0.3,\n",
    "                                                   shuffle= True, #shuffle the data to avoid bias\n",
    "                                                   random_state= 0)\n",
    "knn=KNeighborsClassifier(7)\n",
    "knn.fit(normalized_x_train,ny_train)\n",
    "print('7 neighbours: ' + str(knn.score(normalized_x_test,ny_test)))\n",
    "knn=KNeighborsClassifier(9)\n",
    "knn.fit(normalized_x_train,ny_train)\n",
    "print('9 neighbours: ' + str(knn.score(normalized_x_test,ny_test)))\n",
    "knn=KNeighborsClassifier(11)\n",
    "knn.fit(normalized_x_train,ny_train)\n",
    "print('11 neighbours: ' + str(knn.score(normalized_x_test,ny_test)))"
   ]
  },
  {
   "cell_type": "code",
   "execution_count": 294,
   "id": "723a8600",
   "metadata": {},
   "outputs": [
    {
     "name": "stdout",
     "output_type": "stream",
     "text": [
      "7 neighbours: 0.7333333333333333\n",
      "9 neighbours: 0.8\n",
      "11 neighbours: 0.8\n"
     ]
    }
   ],
   "source": [
    "normalized_x_train, normalized_x_test, ny_train, ny_test= train_test_split(x_normalized, y,\n",
    "                                                   test_size= 0.15,\n",
    "                                                   shuffle= True, #shuffle the data to avoid bias\n",
    "                                                   random_state= 0)\n",
    "knn=KNeighborsClassifier(7)\n",
    "knn.fit(normalized_x_train,ny_train)\n",
    "print('7 neighbours: ' + str(knn.score(normalized_x_test,ny_test)))\n",
    "knn=KNeighborsClassifier(9)\n",
    "knn.fit(normalized_x_train,ny_train)\n",
    "print('9 neighbours: ' + str(knn.score(normalized_x_test,ny_test)))\n",
    "knn=KNeighborsClassifier(11)\n",
    "knn.fit(normalized_x_train,ny_train)\n",
    "print('11 neighbours: ' + str(knn.score(normalized_x_test,ny_test)))"
   ]
  },
  {
   "cell_type": "markdown",
   "id": "6645e3cc",
   "metadata": {},
   "source": [
    "## K-Fold"
   ]
  },
  {
   "cell_type": "code",
   "execution_count": 295,
   "id": "83be0509",
   "metadata": {},
   "outputs": [],
   "source": [
    "from sklearn.model_selection import KFold"
   ]
  },
  {
   "cell_type": "code",
   "execution_count": 296,
   "id": "8d1993de",
   "metadata": {},
   "outputs": [],
   "source": [
    "kf = KFold(n_splits=5, shuffle=True, random_state=0)"
   ]
  },
  {
   "cell_type": "code",
   "execution_count": 297,
   "id": "230992a8",
   "metadata": {},
   "outputs": [],
   "source": [
    "def k_fold_score(fold):\n",
    "  knn_scores = np.empty(0)\n",
    "  for train_index, test_index in fold.split(x_normalized):\n",
    "    print(\"TRAIN indices:\", train_index, \"TEST indices:\", test_index)\n",
    "    x_train_fold, x_test_fold = x_normalized.iloc[train_index], x_normalized.iloc[test_index]\n",
    "    y_train_fold, y_test_fold = y.iloc[train_index], y.iloc[test_index]\n",
    "    knn_fold=KNeighborsClassifier(9)\n",
    "    knn_fold.fit(x_train_fold, y_train_fold)\n",
    "    print(str(knn_fold.score(x_test_fold, y_test_fold)))\n",
    "    knn_scores = np.append(knn_scores, knn_fold.score(x_test_fold, y_test_fold))\n",
    "  print(\"K-Fold average score: \" + str(np.mean(knn_scores)))"
   ]
  },
  {
   "cell_type": "code",
   "execution_count": 298,
   "id": "1f4d444d",
   "metadata": {},
   "outputs": [
    {
     "name": "stdout",
     "output_type": "stream",
     "text": [
      "TRAIN indices: [ 0  1  3  4  5  6  9 10 11 12 14 15 17 18 19 20 21 23 25 27 28 29 31 32\n",
      " 34 35 36 37 38 39 40 41 42 43 44 45 46 47 48 49 50 51 52 56 57 58 59 60\n",
      " 61 62 63 64 65 66 67 68 69 70 71 72 74 76 77 79 80 81 82 83 84 85 87 88\n",
      " 89 90 91 94 96 97 98 99] TEST indices: [ 2  7  8 13 16 22 24 26 30 33 53 54 55 73 75 78 86 92 93 95]\n",
      "0.75\n",
      "TRAIN indices: [ 0  1  2  4  5  7  8  9 10 11 12 13 14 15 16 17 19 20 21 22 23 24 25 26\n",
      " 28 29 30 31 32 33 34 35 36 37 38 39 40 41 42 44 46 47 49 50 52 53 54 55\n",
      " 57 58 59 61 64 65 66 67 69 70 72 73 75 77 78 79 81 83 84 85 86 87 88 89\n",
      " 91 92 93 94 95 96 97 98] TEST indices: [ 3  6 18 27 43 45 48 51 56 60 62 63 68 71 74 76 80 82 90 99]\n",
      "0.55\n",
      "TRAIN indices: [ 2  3  6  7  8  9 10 12 13 14 16 18 19 20 21 22 24 25 26 27 29 30 31 32\n",
      " 33 36 37 39 43 44 45 46 47 48 49 51 53 54 55 56 57 58 60 62 63 64 65 66\n",
      " 67 68 69 70 71 72 73 74 75 76 77 78 79 80 81 82 83 84 85 86 87 88 89 90\n",
      " 92 93 94 95 96 97 98 99] TEST indices: [ 0  1  4  5 11 15 17 23 28 34 35 38 40 41 42 50 52 59 61 91]\n",
      "0.8\n",
      "TRAIN indices: [ 0  1  2  3  4  5  6  7  8  9 11 12 13 15 16 17 18 21 22 23 24 25 26 27\n",
      " 28 30 33 34 35 36 37 38 39 40 41 42 43 44 45 46 47 48 50 51 52 53 54 55\n",
      " 56 58 59 60 61 62 63 64 65 67 68 70 71 73 74 75 76 78 80 81 82 83 86 87\n",
      " 88 90 91 92 93 95 96 99] TEST indices: [10 14 19 20 29 31 32 49 57 66 69 72 77 79 84 85 89 94 97 98]\n",
      "0.75\n",
      "TRAIN indices: [ 0  1  2  3  4  5  6  7  8 10 11 13 14 15 16 17 18 19 20 22 23 24 26 27\n",
      " 28 29 30 31 32 33 34 35 38 40 41 42 43 45 48 49 50 51 52 53 54 55 56 57\n",
      " 59 60 61 62 63 66 68 69 71 72 73 74 75 76 77 78 79 80 82 84 85 86 89 90\n",
      " 91 92 93 94 95 97 98 99] TEST indices: [ 9 12 21 25 36 37 39 44 46 47 58 64 65 67 70 81 83 87 88 96]\n",
      "0.65\n",
      "K-Fold average score: 0.7\n"
     ]
    }
   ],
   "source": [
    "k_fold_score(kf)"
   ]
  },
  {
   "cell_type": "code",
   "execution_count": 299,
   "id": "54a7a5bd",
   "metadata": {},
   "outputs": [
    {
     "name": "stdout",
     "output_type": "stream",
     "text": [
      "TRAIN indices: [ 0  1  4  5  6  9 10 11 12 14 15 17 18 19 20 21 23 25 27 28 29 31 32 34\n",
      " 35 36 37 38 39 40 41 42 44 46 47 48 49 50 51 52 56 57 58 59 60 61 63 64\n",
      " 65 66 67 68 69 70 72 74 76 77 79 80 81 82 83 84 85 87 88 89 90 91 94 96\n",
      " 97 98 99] TEST indices: [ 2  3  7  8 13 16 22 24 26 30 33 43 45 53 54 55 62 71 73 75 78 86 92 93\n",
      " 95]\n",
      "0.72\n",
      "TRAIN indices: [ 0  2  3  7  8  9 10 11 12 13 14 16 19 20 21 22 23 24 25 26 28 29 30 31\n",
      " 32 33 34 35 36 37 39 43 44 45 46 47 49 50 52 53 54 55 57 58 59 62 64 65\n",
      " 66 67 69 70 71 72 73 75 77 78 79 81 83 84 85 86 87 88 89 91 92 93 94 95\n",
      " 96 97 98] TEST indices: [ 1  4  5  6 15 17 18 27 38 40 41 42 48 51 56 60 61 63 68 74 76 80 82 90\n",
      " 99]\n",
      "0.6\n",
      "TRAIN indices: [ 1  2  3  4  5  6  7  8  9 12 13 15 16 17 18 20 21 22 24 25 26 27 30 33\n",
      " 36 37 38 39 40 41 42 43 44 45 46 47 48 51 53 54 55 56 58 60 61 62 63 64\n",
      " 65 67 68 69 70 71 72 73 74 75 76 77 78 80 81 82 83 86 87 88 90 92 93 94\n",
      " 95 96 99] TEST indices: [ 0 10 11 14 19 23 28 29 31 32 34 35 49 50 52 57 59 66 79 84 85 89 91 97\n",
      " 98]\n",
      "0.8\n",
      "TRAIN indices: [ 0  1  2  3  4  5  6  7  8 10 11 13 14 15 16 17 18 19 22 23 24 26 27 28\n",
      " 29 30 31 32 33 34 35 38 40 41 42 43 45 48 49 50 51 52 53 54 55 56 57 59\n",
      " 60 61 62 63 66 68 71 73 74 75 76 78 79 80 82 84 85 86 89 90 91 92 93 95\n",
      " 97 98 99] TEST indices: [ 9 12 20 21 25 36 37 39 44 46 47 58 64 65 67 69 70 72 77 81 83 87 88 94\n",
      " 96]\n",
      "0.64\n",
      "K-Fold average score: 0.6900000000000001\n"
     ]
    }
   ],
   "source": [
    "kf = KFold(n_splits=4, shuffle=True, random_state=0)\n",
    "k_fold_score(kf)"
   ]
  },
  {
   "cell_type": "code",
   "execution_count": 299,
   "id": "2a8951b9",
   "metadata": {},
   "outputs": [],
   "source": []
  }
 ],
 "metadata": {
  "kernelspec": {
   "display_name": "Python 3 (ipykernel)",
   "language": "python",
   "name": "python3"
  },
  "language_info": {
   "codemirror_mode": {
    "name": "ipython",
    "version": 3
   },
   "file_extension": ".py",
   "mimetype": "text/x-python",
   "name": "python",
   "nbconvert_exporter": "python",
   "pygments_lexer": "ipython3",
   "version": "3.9.7"
  }
 },
 "nbformat": 4,
 "nbformat_minor": 5
}