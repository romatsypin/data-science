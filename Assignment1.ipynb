{
 "cells": [
  {
   "cell_type": "markdown",
   "id": "2a4de844",
   "metadata": {},
   "source": [
    "## Do the imports"
   ]
  },
  {
   "cell_type": "code",
   "execution_count": 36,
   "id": "c5ed799f",
   "metadata": {},
   "outputs": [],
   "source": [
    "import matplotlib.pyplot as plt\n",
    "import numpy as np\n",
    "import pandas as pd\n",
    "import seaborn as sns\n",
    "\n",
    "from sklearn import datasets\n",
    "from sklearn.model_selection import train_test_split , KFold\n",
    "from sklearn.preprocessing import Normalizer\n",
    "from sklearn.metrics import accuracy_score\n",
    "from sklearn.neighbors import KNeighborsClassifier\n",
    "\n",
    "from collections import Counter"
   ]
  },
  {
   "cell_type": "markdown",
   "id": "f984c545",
   "metadata": {},
   "source": [
    "## Import and view the data"
   ]
  },
  {
   "cell_type": "code",
   "execution_count": 37,
   "id": "7c32c975",
   "metadata": {},
   "outputs": [],
   "source": [
    "data = pd.read_excel(\"twitter.xlsx\")"
   ]
  },
  {
   "cell_type": "code",
   "execution_count": 38,
   "id": "f689390f",
   "metadata": {},
   "outputs": [
    {
     "data": {
      "text/html": [
       "<div>\n",
       "<style scoped>\n",
       "    .dataframe tbody tr th:only-of-type {\n",
       "        vertical-align: middle;\n",
       "    }\n",
       "\n",
       "    .dataframe tbody tr th {\n",
       "        vertical-align: top;\n",
       "    }\n",
       "\n",
       "    .dataframe thead th {\n",
       "        text-align: right;\n",
       "    }\n",
       "</style>\n",
       "<table border=\"1\" class=\"dataframe\">\n",
       "  <thead>\n",
       "    <tr style=\"text-align: right;\">\n",
       "      <th></th>\n",
       "      <th>Column1.created_at</th>\n",
       "      <th>Date</th>\n",
       "      <th>Time</th>\n",
       "      <th>Column1.text</th>\n",
       "      <th>Own or Retweet?</th>\n",
       "      <th>Column1.truncated</th>\n",
       "      <th>Column1.metadata</th>\n",
       "      <th>Column1.source</th>\n",
       "      <th>Source</th>\n",
       "      <th>Column1.is_quote_status</th>\n",
       "      <th>Column1.retweet_count</th>\n",
       "      <th>Column1.favorite_count</th>\n",
       "      <th>Column1.lang</th>\n",
       "    </tr>\n",
       "  </thead>\n",
       "  <tbody>\n",
       "    <tr>\n",
       "      <th>0</th>\n",
       "      <td>Wed Dec 01 08:10:06</td>\n",
       "      <td>2001-12-01</td>\n",
       "      <td>08:10:06</td>\n",
       "      <td>RT @IGN: In this new trailer, Master Chief car...</td>\n",
       "      <td>Retweet</td>\n",
       "      <td>False</td>\n",
       "      <td>[Record]</td>\n",
       "      <td>&lt;a href=\"https://mobile.twitter.com\" rel=\"nofo...</td>\n",
       "      <td>Twitter Web App</td>\n",
       "      <td>False</td>\n",
       "      <td>246</td>\n",
       "      <td>0</td>\n",
       "      <td>en</td>\n",
       "    </tr>\n",
       "    <tr>\n",
       "      <th>1</th>\n",
       "      <td>Wed Dec 01 08:09:59</td>\n",
       "      <td>2001-12-01</td>\n",
       "      <td>08:09:59</td>\n",
       "      <td>RT @Woodkid: Thank you @HIDEO_KOJIMA_EN ! http...</td>\n",
       "      <td>Retweet</td>\n",
       "      <td>False</td>\n",
       "      <td>[Record]</td>\n",
       "      <td>&lt;a href=\"https://mobile.twitter.com\" rel=\"nofo...</td>\n",
       "      <td>Twitter Web App</td>\n",
       "      <td>False</td>\n",
       "      <td>273</td>\n",
       "      <td>0</td>\n",
       "      <td>en</td>\n",
       "    </tr>\n",
       "    <tr>\n",
       "      <th>2</th>\n",
       "      <td>Wed Dec 01 08:09:47</td>\n",
       "      <td>2001-12-01</td>\n",
       "      <td>08:09:47</td>\n",
       "      <td>RT @DannyBoi_2077: Truck ran out of juice.. so...</td>\n",
       "      <td>Retweet</td>\n",
       "      <td>False</td>\n",
       "      <td>[Record]</td>\n",
       "      <td>&lt;a href=\"https://mobile.twitter.com\" rel=\"nofo...</td>\n",
       "      <td>Twitter Web App</td>\n",
       "      <td>False</td>\n",
       "      <td>16</td>\n",
       "      <td>0</td>\n",
       "      <td>en</td>\n",
       "    </tr>\n",
       "    <tr>\n",
       "      <th>3</th>\n",
       "      <td>Wed Dec 01 05:05:35</td>\n",
       "      <td>2001-12-01</td>\n",
       "      <td>05:05:35</td>\n",
       "      <td>RT @DannyBoi_2077: My reaction when the day DS...</td>\n",
       "      <td>Retweet</td>\n",
       "      <td>False</td>\n",
       "      <td>[Record]</td>\n",
       "      <td>&lt;a href=\"https://mobile.twitter.com\" rel=\"nofo...</td>\n",
       "      <td>Twitter Web App</td>\n",
       "      <td>False</td>\n",
       "      <td>17</td>\n",
       "      <td>0</td>\n",
       "      <td>en</td>\n",
       "    </tr>\n",
       "    <tr>\n",
       "      <th>4</th>\n",
       "      <td>Wed Dec 01 03:38:59</td>\n",
       "      <td>2001-12-01</td>\n",
       "      <td>03:38:59</td>\n",
       "      <td>RT @RetroNewsNow: 🎄On November 30, 1977, durin...</td>\n",
       "      <td>Retweet</td>\n",
       "      <td>False</td>\n",
       "      <td>[Record]</td>\n",
       "      <td>&lt;a href=\"http://twitter.com/download/iphone\" r...</td>\n",
       "      <td>iPhone</td>\n",
       "      <td>False</td>\n",
       "      <td>314</td>\n",
       "      <td>0</td>\n",
       "      <td>en</td>\n",
       "    </tr>\n",
       "  </tbody>\n",
       "</table>\n",
       "</div>"
      ],
      "text/plain": [
       "    Column1.created_at       Date      Time  \\\n",
       "0  Wed Dec 01 08:10:06 2001-12-01  08:10:06   \n",
       "1  Wed Dec 01 08:09:59 2001-12-01  08:09:59   \n",
       "2  Wed Dec 01 08:09:47 2001-12-01  08:09:47   \n",
       "3  Wed Dec 01 05:05:35 2001-12-01  05:05:35   \n",
       "4  Wed Dec 01 03:38:59 2001-12-01  03:38:59   \n",
       "\n",
       "                                        Column1.text Own or Retweet?  \\\n",
       "0  RT @IGN: In this new trailer, Master Chief car...        Retweet    \n",
       "1  RT @Woodkid: Thank you @HIDEO_KOJIMA_EN ! http...        Retweet    \n",
       "2  RT @DannyBoi_2077: Truck ran out of juice.. so...        Retweet    \n",
       "3  RT @DannyBoi_2077: My reaction when the day DS...        Retweet    \n",
       "4  RT @RetroNewsNow: 🎄On November 30, 1977, durin...        Retweet    \n",
       "\n",
       "   Column1.truncated Column1.metadata  \\\n",
       "0              False         [Record]   \n",
       "1              False         [Record]   \n",
       "2              False         [Record]   \n",
       "3              False         [Record]   \n",
       "4              False         [Record]   \n",
       "\n",
       "                                      Column1.source            Source  \\\n",
       "0  <a href=\"https://mobile.twitter.com\" rel=\"nofo...  Twitter Web App    \n",
       "1  <a href=\"https://mobile.twitter.com\" rel=\"nofo...  Twitter Web App    \n",
       "2  <a href=\"https://mobile.twitter.com\" rel=\"nofo...  Twitter Web App    \n",
       "3  <a href=\"https://mobile.twitter.com\" rel=\"nofo...  Twitter Web App    \n",
       "4  <a href=\"http://twitter.com/download/iphone\" r...            iPhone   \n",
       "\n",
       "   Column1.is_quote_status  Column1.retweet_count  Column1.favorite_count  \\\n",
       "0                    False                    246                       0   \n",
       "1                    False                    273                       0   \n",
       "2                    False                     16                       0   \n",
       "3                    False                     17                       0   \n",
       "4                    False                    314                       0   \n",
       "\n",
       "  Column1.lang  \n",
       "0           en  \n",
       "1           en  \n",
       "2           en  \n",
       "3           en  \n",
       "4           en  "
      ]
     },
     "execution_count": 38,
     "metadata": {},
     "output_type": "execute_result"
    }
   ],
   "source": [
    "data.head()"
   ]
  },
  {
   "cell_type": "markdown",
   "id": "4884729d",
   "metadata": {},
   "source": [
    "## Subset the columns for analysis"
   ]
  },
  {
   "cell_type": "code",
   "execution_count": 39,
   "id": "f4127cea",
   "metadata": {},
   "outputs": [],
   "source": [
    "data1 = data[[\"Column1.text\", \"Own or Retweet?\", \"Column1.retweet_count\"]]"
   ]
  },
  {
   "cell_type": "code",
   "execution_count": 40,
   "id": "088a4d45",
   "metadata": {},
   "outputs": [
    {
     "data": {
      "text/html": [
       "<div>\n",
       "<style scoped>\n",
       "    .dataframe tbody tr th:only-of-type {\n",
       "        vertical-align: middle;\n",
       "    }\n",
       "\n",
       "    .dataframe tbody tr th {\n",
       "        vertical-align: top;\n",
       "    }\n",
       "\n",
       "    .dataframe thead th {\n",
       "        text-align: right;\n",
       "    }\n",
       "</style>\n",
       "<table border=\"1\" class=\"dataframe\">\n",
       "  <thead>\n",
       "    <tr style=\"text-align: right;\">\n",
       "      <th></th>\n",
       "      <th>Column1.text</th>\n",
       "      <th>Own or Retweet?</th>\n",
       "      <th>Column1.retweet_count</th>\n",
       "    </tr>\n",
       "  </thead>\n",
       "  <tbody>\n",
       "    <tr>\n",
       "      <th>0</th>\n",
       "      <td>RT @IGN: In this new trailer, Master Chief car...</td>\n",
       "      <td>Retweet</td>\n",
       "      <td>246</td>\n",
       "    </tr>\n",
       "    <tr>\n",
       "      <th>1</th>\n",
       "      <td>RT @Woodkid: Thank you @HIDEO_KOJIMA_EN ! http...</td>\n",
       "      <td>Retweet</td>\n",
       "      <td>273</td>\n",
       "    </tr>\n",
       "    <tr>\n",
       "      <th>2</th>\n",
       "      <td>RT @DannyBoi_2077: Truck ran out of juice.. so...</td>\n",
       "      <td>Retweet</td>\n",
       "      <td>16</td>\n",
       "    </tr>\n",
       "    <tr>\n",
       "      <th>3</th>\n",
       "      <td>RT @DannyBoi_2077: My reaction when the day DS...</td>\n",
       "      <td>Retweet</td>\n",
       "      <td>17</td>\n",
       "    </tr>\n",
       "    <tr>\n",
       "      <th>4</th>\n",
       "      <td>RT @RetroNewsNow: 🎄On November 30, 1977, durin...</td>\n",
       "      <td>Retweet</td>\n",
       "      <td>314</td>\n",
       "    </tr>\n",
       "  </tbody>\n",
       "</table>\n",
       "</div>"
      ],
      "text/plain": [
       "                                        Column1.text Own or Retweet?  \\\n",
       "0  RT @IGN: In this new trailer, Master Chief car...        Retweet    \n",
       "1  RT @Woodkid: Thank you @HIDEO_KOJIMA_EN ! http...        Retweet    \n",
       "2  RT @DannyBoi_2077: Truck ran out of juice.. so...        Retweet    \n",
       "3  RT @DannyBoi_2077: My reaction when the day DS...        Retweet    \n",
       "4  RT @RetroNewsNow: 🎄On November 30, 1977, durin...        Retweet    \n",
       "\n",
       "   Column1.retweet_count  \n",
       "0                    246  \n",
       "1                    273  \n",
       "2                     16  \n",
       "3                     17  \n",
       "4                    314  "
      ]
     },
     "execution_count": 40,
     "metadata": {},
     "output_type": "execute_result"
    }
   ],
   "source": [
    "data1.head()"
   ]
  },
  {
   "cell_type": "code",
   "execution_count": 41,
   "id": "9b363f7e",
   "metadata": {},
   "outputs": [
    {
     "name": "stderr",
     "output_type": "stream",
     "text": [
      "C:\\Users\\romat\\AppData\\Local\\Temp/ipykernel_8156/1947008203.py:1: SettingWithCopyWarning: \n",
      "A value is trying to be set on a copy of a slice from a DataFrame.\n",
      "Try using .loc[row_indexer,col_indexer] = value instead\n",
      "\n",
      "See the caveats in the documentation: https://pandas.pydata.org/pandas-docs/stable/user_guide/indexing.html#returning-a-view-versus-a-copy\n",
      "  data1[\"Tweet Length\"] = data1[\"Column1.text\"].map(len)\n"
     ]
    }
   ],
   "source": [
    "data1[\"Tweet Length\"] = data1[\"Column1.text\"].map(len)"
   ]
  },
  {
   "cell_type": "code",
   "execution_count": 42,
   "id": "b9aa46d4",
   "metadata": {},
   "outputs": [
    {
     "name": "stderr",
     "output_type": "stream",
     "text": [
      "C:\\Users\\romat\\AppData\\Local\\Temp/ipykernel_8156/3795821963.py:1: SettingWithCopyWarning: \n",
      "A value is trying to be set on a copy of a slice from a DataFrame.\n",
      "Try using .loc[row_indexer,col_indexer] = value instead\n",
      "\n",
      "See the caveats in the documentation: https://pandas.pydata.org/pandas-docs/stable/user_guide/indexing.html#returning-a-view-versus-a-copy\n",
      "  data1[\"Retweet\"] = pd.get_dummies(data1[\"Own or Retweet?\"])[\"Retweet \"]\n"
     ]
    }
   ],
   "source": [
    "data1[\"Retweet\"] = pd.get_dummies(data1[\"Own or Retweet?\"])[\"Retweet \"]\n",
    "data1 = data1.drop([\"Own or Retweet?\", \"Column1.text\"], axis = 1)"
   ]
  },
  {
   "cell_type": "code",
   "execution_count": 43,
   "id": "2f8c1bd0",
   "metadata": {},
   "outputs": [],
   "source": [
    "data1[\"retweet_normalized\"] = data1[\"Column1.retweet_count\"].apply(lambda x: np.log(x))\n",
    "data1[\"length_normalized\"] = data1[\"Tweet Length\"].apply(lambda x: np.log(x))"
   ]
  },
  {
   "cell_type": "markdown",
   "id": "1e336823",
   "metadata": {},
   "source": [
    "## Split data into train and test"
   ]
  },
  {
   "cell_type": "code",
   "execution_count": 44,
   "id": "2e913229",
   "metadata": {},
   "outputs": [],
   "source": [
    "x = data1[[\"Column1.retweet_count\", \"Tweet Length\"]]\n",
    "y = data1[\"Retweet\"]\n",
    "x_normalized = data1[[\"retweet_normalized\", \"length_normalized\"]]\n",
    "#y = a + bX + e"
   ]
  },
  {
   "cell_type": "code",
   "execution_count": 45,
   "id": "0f156981",
   "metadata": {},
   "outputs": [],
   "source": [
    "x_train, x_test, y_train, y_test= train_test_split(x, y,\n",
    "                                                   test_size= 0.2,\n",
    "                                                   shuffle= True, #shuffle the data to avoid bias\n",
    "                                                   random_state= 0)"
   ]
  },
  {
   "cell_type": "code",
   "execution_count": 46,
   "id": "56c73d3b",
   "metadata": {},
   "outputs": [],
   "source": [
    "normalized_x_train, normalized_x_test, ny_train, ny_test= train_test_split(x_normalized, y,\n",
    "                                                   test_size= 0.2,\n",
    "                                                   shuffle= True, #shuffle the data to avoid bias\n",
    "                                                   random_state= 0)"
   ]
  },
  {
   "cell_type": "markdown",
   "id": "18d5c1c7",
   "metadata": {},
   "source": [
    "## Instantiate and fit the classifier"
   ]
  },
  {
   "cell_type": "code",
   "execution_count": 47,
   "id": "754c0759",
   "metadata": {},
   "outputs": [],
   "source": [
    "knn=KNeighborsClassifier()"
   ]
  },
  {
   "cell_type": "code",
   "execution_count": 48,
   "id": "31448853",
   "metadata": {},
   "outputs": [
    {
     "data": {
      "text/plain": [
       "KNeighborsClassifier()"
      ]
     },
     "execution_count": 48,
     "metadata": {},
     "output_type": "execute_result"
    }
   ],
   "source": [
    "knn.fit(x_train,y_train)"
   ]
  },
  {
   "cell_type": "code",
   "execution_count": 49,
   "id": "9d9174c9",
   "metadata": {},
   "outputs": [
    {
     "name": "stdout",
     "output_type": "stream",
     "text": [
      "0.6\n"
     ]
    }
   ],
   "source": [
    "## View the score in automatic and manual way\n",
    "print(knn.score(x_test,y_test))"
   ]
  },
  {
   "cell_type": "code",
   "execution_count": 50,
   "id": "4bd8102c",
   "metadata": {},
   "outputs": [
    {
     "name": "stderr",
     "output_type": "stream",
     "text": [
      "C:\\Users\\romat\\AppData\\Local\\Temp/ipykernel_8156/418478617.py:3: SettingWithCopyWarning: \n",
      "A value is trying to be set on a copy of a slice from a DataFrame.\n",
      "Try using .loc[row_indexer,col_indexer] = value instead\n",
      "\n",
      "See the caveats in the documentation: https://pandas.pydata.org/pandas-docs/stable/user_guide/indexing.html#returning-a-view-versus-a-copy\n",
      "  check[\"prediction\"] = pred\n"
     ]
    }
   ],
   "source": [
    "pred = knn.predict(x_test)\n",
    "check = x_test[:]\n",
    "check[\"prediction\"] = pred\n",
    "check = check.sort_index()\n",
    "a = list(check.index.values)\n",
    "check[\"real\"] = data1.iloc[a, :][\"Retweet\"]"
   ]
  },
  {
   "cell_type": "code",
   "execution_count": 51,
   "id": "74042410",
   "metadata": {},
   "outputs": [
    {
     "name": "stdout",
     "output_type": "stream",
     "text": [
      "    Column1.retweet_count  Tweet Length  prediction  real\n",
      "2                      16           137           1     1\n",
      "7                      87            33           1     0\n",
      "8                     433           140           1     1\n",
      "13                     14           140           1     1\n",
      "16                     73           106           1     1\n",
      "22                    759            57           0     0\n",
      "24                      5            77           1     0\n",
      "26                     14           140           1     0\n",
      "30                    253            98           1     0\n",
      "33                     94           140           1     1\n",
      "53                    161           135           1     1\n",
      "54                     31            51           0     0\n",
      "55                     61           114           0     1\n",
      "73                    171            83           0     1\n",
      "75                     18           140           1     0\n",
      "78                    289           140           1     1\n",
      "86                     23           140           1     1\n",
      "92                     13           112           1     1\n",
      "93                     21           140           1     0\n",
      "95                    161           101           1     1\n"
     ]
    },
    {
     "data": {
      "text/plain": [
       "0.6"
      ]
     },
     "execution_count": 51,
     "metadata": {},
     "output_type": "execute_result"
    }
   ],
   "source": [
    "print(check)\n",
    "(12/20)"
   ]
  },
  {
   "cell_type": "markdown",
   "id": "889ca7c8",
   "metadata": {},
   "source": [
    "## Classify an abstract tweet"
   ]
  },
  {
   "cell_type": "code",
   "execution_count": 58,
   "id": "3b2e0e25",
   "metadata": {},
   "outputs": [
    {
     "name": "stderr",
     "output_type": "stream",
     "text": [
      "C:\\Users\\romat\\miniconda3\\envs\\data\\lib\\site-packages\\sklearn\\base.py:445: UserWarning: X does not have valid feature names, but KNeighborsClassifier was fitted with feature names\n",
      "  warnings.warn(\n"
     ]
    },
    {
     "data": {
      "text/plain": [
       "array([0], dtype=uint8)"
      ]
     },
     "execution_count": 58,
     "metadata": {},
     "output_type": "execute_result"
    }
   ],
   "source": [
    "knn.predict([[1000, 10]])"
   ]
  },
  {
   "cell_type": "markdown",
   "id": "39354d49",
   "metadata": {},
   "source": [
    "## Fit the normalized classifier"
   ]
  },
  {
   "cell_type": "code",
   "execution_count": 59,
   "id": "5c218717",
   "metadata": {},
   "outputs": [
    {
     "name": "stdout",
     "output_type": "stream",
     "text": [
      "0.65\n"
     ]
    }
   ],
   "source": [
    "knn=KNeighborsClassifier()\n",
    "knn.fit(normalized_x_train,y_train)\n",
    "print(knn.score(normalized_x_test,y_test))"
   ]
  },
  {
   "cell_type": "markdown",
   "id": "770b1e0a",
   "metadata": {},
   "source": [
    "## Viewing the data"
   ]
  },
  {
   "cell_type": "code",
   "execution_count": 60,
   "id": "5f66af50",
   "metadata": {},
   "outputs": [
    {
     "data": {
      "image/png": "[encoded data removed]",
      "text/plain": [
       "<Figure size 432x288 with 1 Axes>"
      ]
     },
     "metadata": {
      "needs_background": "light"
     },
     "output_type": "display_data"
    }
   ],
   "source": [
    "sns.scatterplot(data = pd.DataFrame(np.c_[x_train, y_train]), x = 0, y = 1, hue = 2)\n",
    "plt.xlabel('Retweets')\n",
    "plt.ylabel(\"Tweet Length\")\n",
    "plt.legend().get_texts()[0].set_text(\"0\")"
   ]
  },
  {
   "cell_type": "code",
   "execution_count": 61,
   "id": "8813cd38",
   "metadata": {},
   "outputs": [
    {
     "data": {
      "image/png": "[encoded data removed]",
      "text/plain": [
       "<Figure size 432x288 with 1 Axes>"
      ]
     },
     "metadata": {
      "needs_background": "light"
     },
     "output_type": "display_data"
    }
   ],
   "source": [
    "sns.scatterplot(data = pd.DataFrame(np.c_[normalized_x_train, ny_train]), x = 0, y = 1, hue = 2)\n",
    "plt.xlabel('Retweets')\n",
    "plt.ylabel(\"Tweet Length\")\n",
    "plt.legend().get_texts()[0].set_text(\"0\")"
   ]
  },
  {
   "cell_type": "markdown",
   "id": "c1c4fb43",
   "metadata": {},
   "source": [
    "## Let's play with the K"
   ]
  },
  {
   "cell_type": "code",
   "execution_count": 62,
   "id": "4e1e0eb2",
   "metadata": {},
   "outputs": [
    {
     "name": "stdout",
     "output_type": "stream",
     "text": [
      "0.55\n"
     ]
    }
   ],
   "source": [
    "knn=KNeighborsClassifier(3)\n",
    "knn.fit(normalized_x_train,ny_train)\n",
    "print(knn.score(normalized_x_test, ny_test))"
   ]
  },
  {
   "cell_type": "code",
   "execution_count": 63,
   "id": "cd0ffb08",
   "metadata": {},
   "outputs": [
    {
     "name": "stdout",
     "output_type": "stream",
     "text": [
      "0.7\n"
     ]
    }
   ],
   "source": [
    "knn=KNeighborsClassifier(7)\n",
    "knn.fit(normalized_x_train,ny_train)\n",
    "print(knn.score(normalized_x_test, ny_test))"
   ]
  },
  {
   "cell_type": "code",
   "execution_count": 64,
   "id": "c584b60f",
   "metadata": {},
   "outputs": [
    {
     "name": "stdout",
     "output_type": "stream",
     "text": [
      "0.75\n"
     ]
    }
   ],
   "source": [
    "knn=KNeighborsClassifier(9)\n",
    "knn.fit(normalized_x_train,ny_train)\n",
    "print(knn.score(normalized_x_test, ny_test))"
   ]
  },
  {
   "cell_type": "code",
   "execution_count": 65,
   "id": "7d1fed64",
   "metadata": {},
   "outputs": [
    {
     "name": "stdout",
     "output_type": "stream",
     "text": [
      "0.7\n"
     ]
    }
   ],
   "source": [
    "knn=KNeighborsClassifier(11)\n",
    "knn.fit(normalized_x_train,ny_train)\n",
    "print(knn.score(normalized_x_test, ny_test))"
   ]
  },
  {
   "cell_type": "code",
   "execution_count": 66,
   "id": "1da27eca",
   "metadata": {},
   "outputs": [
    {
     "name": "stdout",
     "output_type": "stream",
     "text": [
      "0.7\n"
     ]
    }
   ],
   "source": [
    "knn=KNeighborsClassifier(15)\n",
    "knn.fit(normalized_x_train,ny_train)\n",
    "print(knn.score(normalized_x_test, ny_test))"
   ]
  },
  {
   "cell_type": "code",
   "execution_count": 67,
   "id": "675897ac",
   "metadata": {},
   "outputs": [
    {
     "name": "stdout",
     "output_type": "stream",
     "text": [
      "0.65\n"
     ]
    }
   ],
   "source": [
    "knn=KNeighborsClassifier(19)\n",
    "knn.fit(normalized_x_train,ny_train)\n",
    "print(knn.score(normalized_x_test, ny_test))"
   ]
  },
  {
   "cell_type": "markdown",
   "id": "10fb7524",
   "metadata": {},
   "source": [
    "# Let's use the best K and change the train/split"
   ]
  },
  {
   "cell_type": "code",
   "execution_count": 68,
   "id": "22deebf2",
   "metadata": {},
   "outputs": [
    {
     "name": "stdout",
     "output_type": "stream",
     "text": [
      "7 neighbours: 0.6\n",
      "9 neighbours: 0.6\n",
      "11 neighbours: 0.6\n"
     ]
    }
   ],
   "source": [
    "normalized_x_train, normalized_x_test, ny_train, ny_test= train_test_split(x_normalized, y,\n",
    "                                                   test_size= 0.05,\n",
    "                                                   shuffle= True, #shuffle the data to avoid bias\n",
    "                                                   random_state= 0)\n",
    "knn=KNeighborsClassifier(7)\n",
    "knn.fit(normalized_x_train,ny_train)\n",
    "print('7 neighbours: ' + str(knn.score(normalized_x_test,ny_test)))\n",
    "knn=KNeighborsClassifier(9)\n",
    "knn.fit(normalized_x_train,ny_train)\n",
    "print('9 neighbours: ' + str(knn.score(normalized_x_test,ny_test)))\n",
    "knn=KNeighborsClassifier(11)\n",
    "knn.fit(normalized_x_train,ny_train)\n",
    "print('11 neighbours: ' + str(knn.score(normalized_x_test,ny_test)))"
   ]
  },
  {
   "cell_type": "code",
   "execution_count": 69,
   "id": "acb0be28",
   "metadata": {},
   "outputs": [
    {
     "name": "stdout",
     "output_type": "stream",
     "text": [
      "7 neighbours: 0.6666666666666666\n",
      "9 neighbours: 0.6666666666666666\n",
      "11 neighbours: 0.6333333333333333\n"
     ]
    }
   ],
   "source": [
    "normalized_x_train, normalized_x_test, ny_train, ny_test= train_test_split(x_normalized, y,\n",
    "                                                   test_size= 0.3,\n",
    "                                                   shuffle= True, #shuffle the data to avoid bias\n",
    "                                                   random_state= 0)\n",
    "knn=KNeighborsClassifier(7)\n",
    "knn.fit(normalized_x_train,ny_train)\n",
    "print('7 neighbours: ' + str(knn.score(normalized_x_test,ny_test)))\n",
    "knn=KNeighborsClassifier(9)\n",
    "knn.fit(normalized_x_train,ny_train)\n",
    "print('9 neighbours: ' + str(knn.score(normalized_x_test,ny_test)))\n",
    "knn=KNeighborsClassifier(11)\n",
    "knn.fit(normalized_x_train,ny_train)\n",
    "print('11 neighbours: ' + str(knn.score(normalized_x_test,ny_test)))"
   ]
  },
  {
   "cell_type": "code",
   "execution_count": 70,
   "id": "723a8600",
   "metadata": {},
   "outputs": [
    {
     "name": "stdout",
     "output_type": "stream",
     "text": [
      "7 neighbours: 0.7333333333333333\n",
      "9 neighbours: 0.8\n",
      "11 neighbours: 0.8\n"
     ]
    }
   ],
   "source": [
    "normalized_x_train, normalized_x_test, ny_train, ny_test= train_test_split(x_normalized, y,\n",
    "                                                   test_size= 0.15,\n",
    "                                                   shuffle= True, #shuffle the data to avoid bias\n",
    "                                                   random_state= 0)\n",
    "knn=KNeighborsClassifier(7)\n",
    "knn.fit(normalized_x_train,ny_train)\n",
    "print('7 neighbours: ' + str(knn.score(normalized_x_test,ny_test)))\n",
    "knn=KNeighborsClassifier(9)\n",
    "knn.fit(normalized_x_train,ny_train)\n",
    "print('9 neighbours: ' + str(knn.score(normalized_x_test,ny_test)))\n",
    "knn=KNeighborsClassifier(11)\n",
    "knn.fit(normalized_x_train,ny_train)\n",
    "print('11 neighbours: ' + str(knn.score(normalized_x_test,ny_test)))"
   ]
  },
  {
   "cell_type": "markdown",
   "id": "6645e3cc",
   "metadata": {},
   "source": [
    "## K-Fold"
   ]
  },
  {
   "cell_type": "code",
   "execution_count": 71,
   "id": "83be0509",
   "metadata": {},
   "outputs": [],
   "source": [
    "from sklearn.model_selection import KFold"
   ]
  },
  {
   "cell_type": "code",
   "execution_count": 72,
   "id": "8d1993de",
   "metadata": {},
   "outputs": [],
   "source": [
    "kf = KFold(n_splits=5, shuffle=True, random_state=0)"
   ]
  },
  {
   "cell_type": "code",
   "execution_count": 73,
   "id": "230992a8",
   "metadata": {},
   "outputs": [
    {
     "data": {
      "text/html": [
       "<div>\n",
       "<style scoped>\n",
       "    .dataframe tbody tr th:only-of-type {\n",
       "        vertical-align: middle;\n",
       "    }\n",
       "\n",
       "    .dataframe tbody tr th {\n",
       "        vertical-align: top;\n",
       "    }\n",
       "\n",
       "    .dataframe thead th {\n",
       "        text-align: right;\n",
       "    }\n",
       "</style>\n",
       "<table border=\"1\" class=\"dataframe\">\n",
       "  <thead>\n",
       "    <tr style=\"text-align: right;\">\n",
       "      <th></th>\n",
       "      <th>retweet_normalized</th>\n",
       "      <th>length_normalized</th>\n",
       "    </tr>\n",
       "  </thead>\n",
       "  <tbody>\n",
       "    <tr>\n",
       "      <th>0</th>\n",
       "      <td>5.505332</td>\n",
       "      <td>4.941642</td>\n",
       "    </tr>\n",
       "    <tr>\n",
       "      <th>1</th>\n",
       "      <td>5.609472</td>\n",
       "      <td>4.174387</td>\n",
       "    </tr>\n",
       "    <tr>\n",
       "      <th>2</th>\n",
       "      <td>2.772589</td>\n",
       "      <td>4.919981</td>\n",
       "    </tr>\n",
       "    <tr>\n",
       "      <th>3</th>\n",
       "      <td>2.833213</td>\n",
       "      <td>4.941642</td>\n",
       "    </tr>\n",
       "    <tr>\n",
       "      <th>4</th>\n",
       "      <td>5.749393</td>\n",
       "      <td>4.934474</td>\n",
       "    </tr>\n",
       "    <tr>\n",
       "      <th>...</th>\n",
       "      <td>...</td>\n",
       "      <td>...</td>\n",
       "    </tr>\n",
       "    <tr>\n",
       "      <th>95</th>\n",
       "      <td>5.081404</td>\n",
       "      <td>4.615121</td>\n",
       "    </tr>\n",
       "    <tr>\n",
       "      <th>96</th>\n",
       "      <td>4.317488</td>\n",
       "      <td>4.941642</td>\n",
       "    </tr>\n",
       "    <tr>\n",
       "      <th>97</th>\n",
       "      <td>4.174387</td>\n",
       "      <td>4.382027</td>\n",
       "    </tr>\n",
       "    <tr>\n",
       "      <th>98</th>\n",
       "      <td>2.833213</td>\n",
       "      <td>4.941642</td>\n",
       "    </tr>\n",
       "    <tr>\n",
       "      <th>99</th>\n",
       "      <td>1.945910</td>\n",
       "      <td>3.465736</td>\n",
       "    </tr>\n",
       "  </tbody>\n",
       "</table>\n",
       "<p>100 rows × 2 columns</p>\n",
       "</div>"
      ],
      "text/plain": [
       "    retweet_normalized  length_normalized\n",
       "0             5.505332           4.941642\n",
       "1             5.609472           4.174387\n",
       "2             2.772589           4.919981\n",
       "3             2.833213           4.941642\n",
       "4             5.749393           4.934474\n",
       "..                 ...                ...\n",
       "95            5.081404           4.615121\n",
       "96            4.317488           4.941642\n",
       "97            4.174387           4.382027\n",
       "98            2.833213           4.941642\n",
       "99            1.945910           3.465736\n",
       "\n",
       "[100 rows x 2 columns]"
      ]
     },
     "execution_count": 73,
     "metadata": {},
     "output_type": "execute_result"
    }
   ],
   "source": [
    "x_normalized"
   ]
  },
  {
   "cell_type": "code",
   "execution_count": 74,
   "id": "2db389be",
   "metadata": {},
   "outputs": [
    {
     "data": {
      "text/plain": [
       "5"
      ]
     },
     "execution_count": 74,
     "metadata": {},
     "output_type": "execute_result"
    }
   ],
   "source": [
    "kf.get_n_splits(x_normalized)"
   ]
  },
  {
   "cell_type": "code",
   "execution_count": 89,
   "id": "c4d4cc58",
   "metadata": {},
   "outputs": [
    {
     "name": "stdout",
     "output_type": "stream",
     "text": [
      "TRAIN: [ 0  1  3  4  5  6  9 10 11 12 14 15 17 18 19 20 21 23 25 27 28 29 31 32\n",
      " 34 35 36 37 38 39 40 41 42 43 44 45 46 47 48 49 50 51 52 56 57 58 59 60\n",
      " 61 62 63 64 65 66 67 68 69 70 71 72 74 76 77 79 80 81 82 83 84 85 87 88\n",
      " 89 90 91 94 96 97 98 99] TEST: [ 2  7  8 13 16 22 24 26 30 33 53 54 55 73 75 78 86 92 93 95]\n",
      "0.75\n",
      "TRAIN: [ 0  1  2  4  5  7  8  9 10 11 12 13 14 15 16 17 19 20 21 22 23 24 25 26\n",
      " 28 29 30 31 32 33 34 35 36 37 38 39 40 41 42 44 46 47 49 50 52 53 54 55\n",
      " 57 58 59 61 64 65 66 67 69 70 72 73 75 77 78 79 81 83 84 85 86 87 88 89\n",
      " 91 92 93 94 95 96 97 98] TEST: [ 3  6 18 27 43 45 48 51 56 60 62 63 68 71 74 76 80 82 90 99]\n",
      "0.55\n",
      "TRAIN: [ 2  3  6  7  8  9 10 12 13 14 16 18 19 20 21 22 24 25 26 27 29 30 31 32\n",
      " 33 36 37 39 43 44 45 46 47 48 49 51 53 54 55 56 57 58 60 62 63 64 65 66\n",
      " 67 68 69 70 71 72 73 74 75 76 77 78 79 80 81 82 83 84 85 86 87 88 89 90\n",
      " 92 93 94 95 96 97 98 99] TEST: [ 0  1  4  5 11 15 17 23 28 34 35 38 40 41 42 50 52 59 61 91]\n",
      "0.8\n",
      "TRAIN: [ 0  1  2  3  4  5  6  7  8  9 11 12 13 15 16 17 18 21 22 23 24 25 26 27\n",
      " 28 30 33 34 35 36 37 38 39 40 41 42 43 44 45 46 47 48 50 51 52 53 54 55\n",
      " 56 58 59 60 61 62 63 64 65 67 68 70 71 73 74 75 76 78 80 81 82 83 86 87\n",
      " 88 90 91 92 93 95 96 99] TEST: [10 14 19 20 29 31 32 49 57 66 69 72 77 79 84 85 89 94 97 98]\n",
      "0.75\n",
      "TRAIN: [ 0  1  2  3  4  5  6  7  8 10 11 13 14 15 16 17 18 19 20 22 23 24 26 27\n",
      " 28 29 30 31 32 33 34 35 38 40 41 42 43 45 48 49 50 51 52 53 54 55 56 57\n",
      " 59 60 61 62 63 66 68 69 71 72 73 74 75 76 77 78 79 80 82 84 85 86 89 90\n",
      " 91 92 93 94 95 97 98 99] TEST: [ 9 12 21 25 36 37 39 44 46 47 58 64 65 67 70 81 83 87 88 96]\n",
      "0.65\n"
     ]
    }
   ],
   "source": [
    "knn_scores = np.empty(0)\n",
    "for train_index, test_index in kf.split(x_normalized):\n",
    "  print(\"TRAIN:\", train_index, \"TEST:\", test_index)\n",
    "  X_train, X_test = x_normalized.iloc[train_index], x_normalized.iloc[test_index]\n",
    "  y_train, y_test = y.iloc[train_index], y.iloc[test_index]\n",
    "  knn=KNeighborsClassifier(9)\n",
    "  knn.fit(X_train, y_train)\n",
    "  print(str(knn.score(X_test, y_test)))\n",
    "  knn_scores = np.append(knn_scores, knn.score(X_test, y_test))\n",
    "  np.mean(knn_scores)"
   ]
  },
  {
   "cell_type": "code",
   "execution_count": 90,
   "id": "0ac6ce99",
   "metadata": {},
   "outputs": [
    {
     "data": {
      "text/plain": [
       "0.7"
      ]
     },
     "execution_count": 90,
     "metadata": {},
     "output_type": "execute_result"
    }
   ],
   "source": [
    "np.mean(knn_scores)"
   ]
  },
  {
   "cell_type": "code",
   "execution_count": null,
   "id": "1f4d444d",
   "metadata": {},
   "outputs": [],
   "source": []
  }
 ],
 "metadata": {
  "kernelspec": {
   "display_name": "Python 3 (ipykernel)",
   "language": "python",
   "name": "python3"
  },
  "language_info": {
   "codemirror_mode": {
    "name": "ipython",
    "version": 3
   },
   "file_extension": ".py",
   "mimetype": "text/x-python",
   "name": "python",
   "nbconvert_exporter": "python",
   "pygments_lexer": "ipython3",
   "version": "3.9.7"
  }
 },
 "nbformat": 4,
 "nbformat_minor": 5
}
