{
 "cells": [
  {
   "cell_type": "markdown",
   "id": "2a4de844",
   "metadata": {},
   "source": [
    "## Do the imports"
   ]
  },
  {
   "cell_type": "code",
   "execution_count": 108,
   "id": "c5ed799f",
   "metadata": {},
   "outputs": [],
   "source": [
    "import matplotlib.pyplot as plt\n",
    "import numpy as np\n",
    "import pandas as pd\n",
    "import seaborn as sns\n",
    "\n",
    "from sklearn import datasets\n",
    "from sklearn.model_selection import train_test_split , KFold\n",
    "from sklearn.preprocessing import Normalizer\n",
    "from sklearn.metrics import accuracy_score\n",
    "from sklearn.neighbors import KNeighborsClassifier\n",
    "\n",
    "from collections import Counter"
   ]
  },
  {
   "cell_type": "markdown",
   "id": "f984c545",
   "metadata": {},
   "source": [
    "## Import and view the data"
   ]
  },
  {
   "cell_type": "code",
   "execution_count": 109,
   "id": "7c32c975",
   "metadata": {},
   "outputs": [],
   "source": [
    "data = pd.read_excel(\"twitter.xlsx\")"
   ]
  },
  {
   "cell_type": "code",
   "execution_count": 110,
   "id": "f689390f",
   "metadata": {},
   "outputs": [
    {
     "data": {
      "text/plain": "    Column1.created_at       Date      Time  \\\n0  Wed Dec 01 08:10:06 2001-12-01  08:10:06   \n1  Wed Dec 01 08:09:59 2001-12-01  08:09:59   \n2  Wed Dec 01 08:09:47 2001-12-01  08:09:47   \n3  Wed Dec 01 05:05:35 2001-12-01  05:05:35   \n4  Wed Dec 01 03:38:59 2001-12-01  03:38:59   \n\n                                        Column1.text Own or Retweet?  \\\n0  RT @IGN: In this new trailer, Master Chief car...        Retweet    \n1  RT @Woodkid: Thank you @HIDEO_KOJIMA_EN ! http...        Retweet    \n2  RT @DannyBoi_2077: Truck ran out of juice.. so...        Retweet    \n3  RT @DannyBoi_2077: My reaction when the day DS...        Retweet    \n4  RT @RetroNewsNow: 🎄On November 30, 1977, durin...        Retweet    \n\n   Column1.truncated Column1.metadata  \\\n0              False         [Record]   \n1              False         [Record]   \n2              False         [Record]   \n3              False         [Record]   \n4              False         [Record]   \n\n                                      Column1.source            Source  \\\n0  <a href=\"https://mobile.twitter.com\" rel=\"nofo...  Twitter Web App    \n1  <a href=\"https://mobile.twitter.com\" rel=\"nofo...  Twitter Web App    \n2  <a href=\"https://mobile.twitter.com\" rel=\"nofo...  Twitter Web App    \n3  <a href=\"https://mobile.twitter.com\" rel=\"nofo...  Twitter Web App    \n4  <a href=\"http://twitter.com/download/iphone\" r...            iPhone   \n\n   Column1.is_quote_status  Column1.retweet_count  Column1.favorite_count  \\\n0                    False                    246                       0   \n1                    False                    273                       0   \n2                    False                     16                       0   \n3                    False                     17                       0   \n4                    False                    314                       0   \n\n  Column1.lang  \n0           en  \n1           en  \n2           en  \n3           en  \n4           en  ",
      "text/html": "<div>\n<style scoped>\n    .dataframe tbody tr th:only-of-type {\n        vertical-align: middle;\n    }\n\n    .dataframe tbody tr th {\n        vertical-align: top;\n    }\n\n    .dataframe thead th {\n        text-align: right;\n    }\n</style>\n<table border=\"1\" class=\"dataframe\">\n  <thead>\n    <tr style=\"text-align: right;\">\n      <th></th>\n      <th>Column1.created_at</th>\n      <th>Date</th>\n      <th>Time</th>\n      <th>Column1.text</th>\n      <th>Own or Retweet?</th>\n      <th>Column1.truncated</th>\n      <th>Column1.metadata</th>\n      <th>Column1.source</th>\n      <th>Source</th>\n      <th>Column1.is_quote_status</th>\n      <th>Column1.retweet_count</th>\n      <th>Column1.favorite_count</th>\n      <th>Column1.lang</th>\n    </tr>\n  </thead>\n  <tbody>\n    <tr>\n      <th>0</th>\n      <td>Wed Dec 01 08:10:06</td>\n      <td>2001-12-01</td>\n      <td>08:10:06</td>\n      <td>RT @IGN: In this new trailer, Master Chief car...</td>\n      <td>Retweet</td>\n      <td>False</td>\n      <td>[Record]</td>\n      <td>&lt;a href=\"https://mobile.twitter.com\" rel=\"nofo...</td>\n      <td>Twitter Web App</td>\n      <td>False</td>\n      <td>246</td>\n      <td>0</td>\n      <td>en</td>\n    </tr>\n    <tr>\n      <th>1</th>\n      <td>Wed Dec 01 08:09:59</td>\n      <td>2001-12-01</td>\n      <td>08:09:59</td>\n      <td>RT @Woodkid: Thank you @HIDEO_KOJIMA_EN ! http...</td>\n      <td>Retweet</td>\n      <td>False</td>\n      <td>[Record]</td>\n      <td>&lt;a href=\"https://mobile.twitter.com\" rel=\"nofo...</td>\n      <td>Twitter Web App</td>\n      <td>False</td>\n      <td>273</td>\n      <td>0</td>\n      <td>en</td>\n    </tr>\n    <tr>\n      <th>2</th>\n      <td>Wed Dec 01 08:09:47</td>\n      <td>2001-12-01</td>\n      <td>08:09:47</td>\n      <td>RT @DannyBoi_2077: Truck ran out of juice.. so...</td>\n      <td>Retweet</td>\n      <td>False</td>\n      <td>[Record]</td>\n      <td>&lt;a href=\"https://mobile.twitter.com\" rel=\"nofo...</td>\n      <td>Twitter Web App</td>\n      <td>False</td>\n      <td>16</td>\n      <td>0</td>\n      <td>en</td>\n    </tr>\n    <tr>\n      <th>3</th>\n      <td>Wed Dec 01 05:05:35</td>\n      <td>2001-12-01</td>\n      <td>05:05:35</td>\n      <td>RT @DannyBoi_2077: My reaction when the day DS...</td>\n      <td>Retweet</td>\n      <td>False</td>\n      <td>[Record]</td>\n      <td>&lt;a href=\"https://mobile.twitter.com\" rel=\"nofo...</td>\n      <td>Twitter Web App</td>\n      <td>False</td>\n      <td>17</td>\n      <td>0</td>\n      <td>en</td>\n    </tr>\n    <tr>\n      <th>4</th>\n      <td>Wed Dec 01 03:38:59</td>\n      <td>2001-12-01</td>\n      <td>03:38:59</td>\n      <td>RT @RetroNewsNow: 🎄On November 30, 1977, durin...</td>\n      <td>Retweet</td>\n      <td>False</td>\n      <td>[Record]</td>\n      <td>&lt;a href=\"http://twitter.com/download/iphone\" r...</td>\n      <td>iPhone</td>\n      <td>False</td>\n      <td>314</td>\n      <td>0</td>\n      <td>en</td>\n    </tr>\n  </tbody>\n</table>\n</div>"
     },
     "execution_count": 110,
     "metadata": {},
     "output_type": "execute_result"
    }
   ],
   "source": [
    "data.head()"
   ]
  },
  {
   "cell_type": "markdown",
   "id": "4884729d",
   "metadata": {},
   "source": [
    "## Subset the columns for analysis"
   ]
  },
  {
   "cell_type": "code",
   "execution_count": 111,
   "id": "f4127cea",
   "metadata": {},
   "outputs": [],
   "source": [
    "data1 = data[[\"Column1.text\", \"Own or Retweet?\", \"Column1.retweet_count\"]]"
   ]
  },
  {
   "cell_type": "code",
   "execution_count": 112,
   "id": "088a4d45",
   "metadata": {},
   "outputs": [
    {
     "data": {
      "text/plain": "                                        Column1.text Own or Retweet?  \\\n0  RT @IGN: In this new trailer, Master Chief car...        Retweet    \n1  RT @Woodkid: Thank you @HIDEO_KOJIMA_EN ! http...        Retweet    \n2  RT @DannyBoi_2077: Truck ran out of juice.. so...        Retweet    \n3  RT @DannyBoi_2077: My reaction when the day DS...        Retweet    \n4  RT @RetroNewsNow: 🎄On November 30, 1977, durin...        Retweet    \n\n   Column1.retweet_count  \n0                    246  \n1                    273  \n2                     16  \n3                     17  \n4                    314  ",
      "text/html": "<div>\n<style scoped>\n    .dataframe tbody tr th:only-of-type {\n        vertical-align: middle;\n    }\n\n    .dataframe tbody tr th {\n        vertical-align: top;\n    }\n\n    .dataframe thead th {\n        text-align: right;\n    }\n</style>\n<table border=\"1\" class=\"dataframe\">\n  <thead>\n    <tr style=\"text-align: right;\">\n      <th></th>\n      <th>Column1.text</th>\n      <th>Own or Retweet?</th>\n      <th>Column1.retweet_count</th>\n    </tr>\n  </thead>\n  <tbody>\n    <tr>\n      <th>0</th>\n      <td>RT @IGN: In this new trailer, Master Chief car...</td>\n      <td>Retweet</td>\n      <td>246</td>\n    </tr>\n    <tr>\n      <th>1</th>\n      <td>RT @Woodkid: Thank you @HIDEO_KOJIMA_EN ! http...</td>\n      <td>Retweet</td>\n      <td>273</td>\n    </tr>\n    <tr>\n      <th>2</th>\n      <td>RT @DannyBoi_2077: Truck ran out of juice.. so...</td>\n      <td>Retweet</td>\n      <td>16</td>\n    </tr>\n    <tr>\n      <th>3</th>\n      <td>RT @DannyBoi_2077: My reaction when the day DS...</td>\n      <td>Retweet</td>\n      <td>17</td>\n    </tr>\n    <tr>\n      <th>4</th>\n      <td>RT @RetroNewsNow: 🎄On November 30, 1977, durin...</td>\n      <td>Retweet</td>\n      <td>314</td>\n    </tr>\n  </tbody>\n</table>\n</div>"
     },
     "execution_count": 112,
     "metadata": {},
     "output_type": "execute_result"
    }
   ],
   "source": [
    "data1.head()"
   ]
  },
  {
   "cell_type": "code",
   "execution_count": 113,
   "id": "9b363f7e",
   "metadata": {},
   "outputs": [
    {
     "name": "stderr",
     "output_type": "stream",
     "text": [
      "<ipython-input-113-0cbd1ba97dd5>:1: SettingWithCopyWarning: \n",
      "A value is trying to be set on a copy of a slice from a DataFrame.\n",
      "Try using .loc[row_indexer,col_indexer] = value instead\n",
      "\n",
      "See the caveats in the documentation: https://pandas.pydata.org/pandas-docs/stable/user_guide/indexing.html#returning-a-view-versus-a-copy\n",
      "  data1[\"Tweet Length\"] = data1[\"Column1.text\"].map(len)\n"
     ]
    }
   ],
   "source": [
    "data1[\"Tweet Length\"] = data1[\"Column1.text\"].map(len)"
   ]
  },
  {
   "cell_type": "code",
   "execution_count": 114,
   "id": "b9aa46d4",
   "metadata": {},
   "outputs": [
    {
     "name": "stderr",
     "output_type": "stream",
     "text": [
      "<ipython-input-114-3372bc7e7e80>:1: SettingWithCopyWarning: \n",
      "A value is trying to be set on a copy of a slice from a DataFrame.\n",
      "Try using .loc[row_indexer,col_indexer] = value instead\n",
      "\n",
      "See the caveats in the documentation: https://pandas.pydata.org/pandas-docs/stable/user_guide/indexing.html#returning-a-view-versus-a-copy\n",
      "  data1[\"Retweet\"] = pd.get_dummies(data1[\"Own or Retweet?\"])[\"Retweet \"]\n"
     ]
    }
   ],
   "source": [
    "data1[\"Retweet\"] = pd.get_dummies(data1[\"Own or Retweet?\"])[\"Retweet \"]\n",
    "data1 = data1.drop([\"Own or Retweet?\", \"Column1.text\"], axis = 1)"
   ]
  },
  {
   "cell_type": "markdown",
   "id": "1e336823",
   "metadata": {},
   "source": [
    "## Split data into train and test"
   ]
  },
  {
   "cell_type": "code",
   "execution_count": 115,
   "id": "2e913229",
   "metadata": {},
   "outputs": [],
   "source": [
    "x = data1[[\"Column1.retweet_count\", \"Tweet Length\"]]\n",
    "y = data1[\"Retweet\"]\n",
    "#y = a + bX + e"
   ]
  },
  {
   "cell_type": "code",
   "execution_count": 116,
   "id": "0f156981",
   "metadata": {},
   "outputs": [],
   "source": [
    "x_train, x_test, y_train, y_test= train_test_split(x, y,\n",
    "                                                   test_size= 0.2,\n",
    "                                                   shuffle= True, #shuffle the data to avoid bias\n",
    "                                                   random_state= 0)"
   ]
  },
  {
   "cell_type": "markdown",
   "id": "18d5c1c7",
   "metadata": {},
   "source": [
    "## Instantiate and fit the classifier"
   ]
  },
  {
   "cell_type": "code",
   "execution_count": 117,
   "id": "754c0759",
   "metadata": {},
   "outputs": [],
   "source": [
    "knn=KNeighborsClassifier()"
   ]
  },
  {
   "cell_type": "code",
   "execution_count": 118,
   "id": "31448853",
   "metadata": {},
   "outputs": [
    {
     "data": {
      "text/plain": "KNeighborsClassifier()"
     },
     "execution_count": 118,
     "metadata": {},
     "output_type": "execute_result"
    }
   ],
   "source": [
    "knn.fit(x_train,y_train)"
   ]
  },
  {
   "cell_type": "code",
   "execution_count": 119,
   "id": "9d9174c9",
   "metadata": {},
   "outputs": [
    {
     "name": "stdout",
     "output_type": "stream",
     "text": [
      "0.6\n"
     ]
    }
   ],
   "source": [
    "## View the score in automatic and manual way\n",
    "print(knn.score(x_test,y_test))"
   ]
  },
  {
   "cell_type": "code",
   "execution_count": 120,
   "id": "4bd8102c",
   "metadata": {},
   "outputs": [
    {
     "name": "stderr",
     "output_type": "stream",
     "text": [
      "<ipython-input-120-a18575ab505c>:3: SettingWithCopyWarning: \n",
      "A value is trying to be set on a copy of a slice from a DataFrame.\n",
      "Try using .loc[row_indexer,col_indexer] = value instead\n",
      "\n",
      "See the caveats in the documentation: https://pandas.pydata.org/pandas-docs/stable/user_guide/indexing.html#returning-a-view-versus-a-copy\n",
      "  check[\"prediction\"] = pred\n"
     ]
    }
   ],
   "source": [
    "pred = knn.predict(x_test)\n",
    "check = x_test[:]\n",
    "check[\"prediction\"] = pred\n",
    "check = check.sort_index()\n",
    "a = list(check.index.values)\n",
    "check[\"real\"] = data1.iloc[a, :][\"Retweet\"]"
   ]
  },
  {
   "cell_type": "code",
   "execution_count": 121,
   "id": "74042410",
   "metadata": {},
   "outputs": [
    {
     "name": "stdout",
     "output_type": "stream",
     "text": [
      "    Column1.retweet_count  Tweet Length  prediction  real\n",
      "2                      16           137           1     1\n",
      "7                      87            33           1     0\n",
      "8                     433           140           1     1\n",
      "13                     14           140           1     1\n",
      "16                     73           106           1     1\n",
      "22                    759            57           0     0\n",
      "24                      5            77           1     0\n",
      "26                     14           140           1     0\n",
      "30                    253            98           1     0\n",
      "33                     94           140           1     1\n",
      "53                    161           135           1     1\n",
      "54                     31            51           0     0\n",
      "55                     61           114           0     1\n",
      "73                    171            83           0     1\n",
      "75                     18           140           1     0\n",
      "78                    289           140           1     1\n",
      "86                     23           140           1     1\n",
      "92                     13           112           1     1\n",
      "93                     21           140           1     0\n",
      "95                    161           101           1     1\n"
     ]
    },
    {
     "data": {
      "text/plain": "0.6"
     },
     "execution_count": 121,
     "metadata": {},
     "output_type": "execute_result"
    }
   ],
   "source": [
    "print(check)\n",
    "(12/20)"
   ]
  },
  {
   "cell_type": "markdown",
   "id": "889ca7c8",
   "metadata": {},
   "source": [
    "## Classify an abstract tweet"
   ]
  },
  {
   "cell_type": "code",
   "execution_count": 122,
   "id": "3b2e0e25",
   "metadata": {},
   "outputs": [
    {
     "name": "stderr",
     "output_type": "stream",
     "text": [
      "C:\\Users\\erict\\anaconda3\\lib\\site-packages\\sklearn\\utils\\validation.py:63: FutureWarning: Arrays of bytes/strings is being converted to decimal numbers if dtype='numeric'. This behavior is deprecated in 0.24 and will be removed in 1.1 (renaming of 0.26). Please convert your data to numeric values explicitly instead.\n",
      "  return f(*args, **kwargs)\n"
     ]
    },
    {
     "data": {
      "text/plain": "array([0], dtype=uint8)"
     },
     "execution_count": 122,
     "metadata": {},
     "output_type": "execute_result"
    }
   ],
   "source": [
    "knn.predict([[\"1000\", \"10\"]])"
   ]
  },
  {
   "cell_type": "markdown",
   "id": "770b1e0a",
   "metadata": {},
   "source": [
    "# Let's try some things out"
   ]
  },
  {
   "cell_type": "markdown",
   "id": "0be977c9",
   "metadata": {},
   "source": [
    "## Normalize the data"
   ]
  },
  {
   "cell_type": "code",
   "execution_count": 143,
   "id": "5a309122",
   "metadata": {},
   "outputs": [],
   "source": [
    "scaler= Normalizer().fit(x_train) # the scaler is fitted to the training set\n",
    "normalized_x_train= scaler.transform(x_train) # the scaler is applied to the training set\n",
    "normalized_x_test= scaler.transform(x_test)"
   ]
  },
  {
   "cell_type": "code",
   "execution_count": 144,
   "id": "127f0338",
   "metadata": {},
   "outputs": [
    {
     "name": "stdout",
     "output_type": "stream",
     "text": [
      "[[0.09950372 0.99503719]\n",
      " [0.16211259 0.98677227]\n",
      " [0.11599991 0.99324922]\n",
      " [0.4717921  0.88170982]\n",
      " [0.12752174 0.99183578]]\n",
      "    Column1.retweet_count  Tweet Length\n",
      "26                     14           140\n",
      "86                     23           140\n",
      "2                      16           137\n",
      "55                     61           114\n",
      "75                     18           140\n"
     ]
    }
   ],
   "source": [
    "print(normalized_x_test[:5])\n",
    "print(x_test.head())"
   ]
  },
  {
   "cell_type": "code",
   "execution_count": 145,
   "id": "5f66af50",
   "metadata": {},
   "outputs": [
    {
     "data": {
      "text/plain": "<Figure size 432x288 with 1 Axes>",
      "image/png": "[encoded data removed]"
     },
     "metadata": {
      "needs_background": "light"
     },
     "output_type": "display_data"
    }
   ],
   "source": [
    "sns.scatterplot(data = pd.DataFrame(np.c_[x_train, y_train]), x = 0, y = 1, hue = 2)\n",
    "plt.xlabel('Retweets')\n",
    "plt.ylabel(\"Tweet Length\")\n",
    "plt.legend().get_texts()[0].set_text(\"0\")"
   ]
  },
  {
   "cell_type": "code",
   "execution_count": 147,
   "id": "8813cd38",
   "metadata": {},
   "outputs": [
    {
     "data": {
      "text/plain": "<Figure size 432x288 with 1 Axes>",
      "image/png": "[encoded data removed]"
     },
     "metadata": {
      "needs_background": "light"
     },
     "output_type": "display_data"
    }
   ],
   "source": [
    "sns.scatterplot(data = pd.DataFrame(np.c_[normalized_x_train, y_train]), x = 0, y = 1, hue = 2)\n",
    "plt.xlabel('Retweets')\n",
    "plt.ylabel(\"Tweet Length\")\n",
    "plt.legend().get_texts()[0].set_text(\"0\")"
   ]
  },
  {
   "cell_type": "markdown",
   "id": "af034a7c",
   "metadata": {},
   "source": [
    "## Train and assess the classifier on the normalized data"
   ]
  },
  {
   "cell_type": "code",
   "execution_count": 127,
   "id": "eebcf287",
   "metadata": {},
   "outputs": [],
   "source": [
    "knn=KNeighborsClassifier()"
   ]
  },
  {
   "cell_type": "code",
   "execution_count": 128,
   "id": "1a86b9f1",
   "metadata": {},
   "outputs": [
    {
     "data": {
      "text/plain": "KNeighborsClassifier()"
     },
     "execution_count": 128,
     "metadata": {},
     "output_type": "execute_result"
    }
   ],
   "source": [
    "knn.fit(normalized_x_train,y_train)"
   ]
  },
  {
   "cell_type": "code",
   "execution_count": 129,
   "id": "f5c4316c",
   "metadata": {},
   "outputs": [
    {
     "name": "stdout",
     "output_type": "stream",
     "text": [
      "0.55\n"
     ]
    }
   ],
   "source": [
    "print(knn.score(normalized_x_test,y_test))"
   ]
  },
  {
   "cell_type": "markdown",
   "id": "c1c4fb43",
   "metadata": {},
   "source": [
    "## Let's play with the K"
   ]
  },
  {
   "cell_type": "code",
   "execution_count": 130,
   "id": "4e1e0eb2",
   "metadata": {},
   "outputs": [
    {
     "name": "stdout",
     "output_type": "stream",
     "text": [
      "0.55\n"
     ]
    }
   ],
   "source": [
    "knn=KNeighborsClassifier(3)\n",
    "knn.fit(x_train,y_train)\n",
    "print(knn.score(x_test,y_test))"
   ]
  },
  {
   "cell_type": "code",
   "execution_count": 131,
   "id": "cd0ffb08",
   "metadata": {},
   "outputs": [
    {
     "name": "stdout",
     "output_type": "stream",
     "text": [
      "0.6\n"
     ]
    }
   ],
   "source": [
    "knn=KNeighborsClassifier(7)\n",
    "knn.fit(x_train,y_train)\n",
    "print(knn.score(x_test,y_test))"
   ]
  },
  {
   "cell_type": "code",
   "execution_count": 132,
   "id": "c584b60f",
   "metadata": {},
   "outputs": [
    {
     "name": "stdout",
     "output_type": "stream",
     "text": [
      "0.7\n"
     ]
    }
   ],
   "source": [
    "knn=KNeighborsClassifier(9)\n",
    "knn.fit(x_train,y_train)\n",
    "print(knn.score(x_test,y_test))"
   ]
  },
  {
   "cell_type": "code",
   "execution_count": 133,
   "id": "7d1fed64",
   "metadata": {},
   "outputs": [
    {
     "name": "stdout",
     "output_type": "stream",
     "text": [
      "0.7\n"
     ]
    }
   ],
   "source": [
    "knn=KNeighborsClassifier(11)\n",
    "knn.fit(x_train,y_train)\n",
    "print(knn.score(x_test,y_test))"
   ]
  },
  {
   "cell_type": "code",
   "execution_count": 134,
   "id": "1da27eca",
   "metadata": {},
   "outputs": [
    {
     "name": "stdout",
     "output_type": "stream",
     "text": [
      "0.75\n"
     ]
    }
   ],
   "source": [
    "knn=KNeighborsClassifier(15)\n",
    "knn.fit(x_train,y_train)\n",
    "print(knn.score(x_test,y_test))"
   ]
  },
  {
   "cell_type": "code",
   "execution_count": 135,
   "id": "675897ac",
   "metadata": {},
   "outputs": [
    {
     "name": "stdout",
     "output_type": "stream",
     "text": [
      "0.65\n"
     ]
    }
   ],
   "source": [
    "knn=KNeighborsClassifier(19)\n",
    "knn.fit(x_train,y_train)\n",
    "print(knn.score(x_test,y_test))"
   ]
  },
  {
   "cell_type": "markdown",
   "source": [
    "### From the tries, we can see that the highest score is achieved with 15 neighbours"
   ],
   "metadata": {
    "collapsed": false,
    "pycharm": {
     "name": "#%% md\n"
    }
   }
  },
  {
   "cell_type": "markdown",
   "id": "10fb7524",
   "metadata": {},
   "source": [
    "# Let's use the best K and change the train/split"
   ]
  },
  {
   "cell_type": "code",
   "execution_count": 154,
   "id": "723a8600",
   "metadata": {},
   "outputs": [
    {
     "name": "stdout",
     "output_type": "stream",
     "text": [
      "9 neighbours: 0.6\n",
      "11 neighbours: 0.6\n",
      "15 neighbours: 0.6\n"
     ]
    }
   ],
   "source": [
    "x_train, x_test, y_train, y_test= train_test_split(x, y,\n",
    "                                                   test_size= 0.05, #Test sample size of 5%\n",
    "                                                   shuffle= True, #shuffle the data to avoid bias\n",
    "                                                   random_state= 0)\n",
    "knn=KNeighborsClassifier(9)\n",
    "knn.fit(x_train,y_train)\n",
    "print('9 neighbours: ' + str( knn.score(x_test,y_test)))\n",
    "knn=KNeighborsClassifier(11)\n",
    "knn.fit(x_train,y_train)\n",
    "print('11 neighbours: ' + str(knn.score(x_test,y_test)))\n",
    "knn=KNeighborsClassifier(15)\n",
    "knn.fit(x_train,y_train)\n",
    "print('15 neighbours: ' + str(knn.score(x_test,y_test)))"
   ]
  },
  {
   "cell_type": "code",
   "execution_count": 155,
   "id": "8e7ad677",
   "metadata": {},
   "outputs": [
    {
     "name": "stdout",
     "output_type": "stream",
     "text": [
      "9 neighbours: 0.7\n",
      "11 neighbours: 0.7\n",
      "15 neighbours: 0.7\n"
     ]
    }
   ],
   "source": [
    "x_train, x_test, y_train, y_test= train_test_split(x, y,\n",
    "                                                   test_size= 0.1, #Test sample size of 10%\n",
    "                                                   shuffle= True, #shuffle the data to avoid bias\n",
    "                                                   random_state= 0)\n",
    "knn=KNeighborsClassifier(9)\n",
    "knn.fit(x_train,y_train)\n",
    "print('9 neighbours: ' + str( knn.score(x_test,y_test)))\n",
    "knn=KNeighborsClassifier(11)\n",
    "knn.fit(x_train,y_train)\n",
    "print('11 neighbours: ' + str(knn.score(x_test,y_test)))\n",
    "knn=KNeighborsClassifier(15)\n",
    "knn.fit(x_train,y_train)\n",
    "print('15 neighbours: ' + str(knn.score(x_test,y_test)))"
   ]
  },
  {
   "cell_type": "code",
   "execution_count": 156,
   "id": "af4ed183",
   "metadata": {},
   "outputs": [
    {
     "name": "stdout",
     "output_type": "stream",
     "text": [
      "9 neighbours: 0.6666666666666666\n",
      "11 neighbours: 0.6666666666666666\n",
      "15 neighbours: 0.6666666666666666\n"
     ]
    }
   ],
   "source": [
    "x_train, x_test, y_train, y_test= train_test_split(x, y,\n",
    "                                                   test_size= 0.3, #Test sample size of 30%\n",
    "                                                   shuffle= True, #shuffle the data to avoid bias\n",
    "                                                   random_state= 0)\n",
    "knn=KNeighborsClassifier(9)\n",
    "knn.fit(x_train,y_train)\n",
    "print('9 neighbours: ' + str( knn.score(x_test,y_test)))\n",
    "knn=KNeighborsClassifier(11)\n",
    "knn.fit(x_train,y_train)\n",
    "print('11 neighbours: ' + str(knn.score(x_test,y_test)))\n",
    "knn=KNeighborsClassifier(15)\n",
    "knn.fit(x_train,y_train)\n",
    "print('15 neighbours: ' + str(knn.score(x_test,y_test)))"
   ]
  },
  {
   "cell_type": "markdown",
   "id": "6645e3cc",
   "metadata": {},
   "source": [
    "## K-Fold"
   ]
  },
  {
   "cell_type": "code",
   "execution_count": 142,
   "id": "83be0509",
   "metadata": {},
   "outputs": [],
   "source": [
    "from sklearn.model_selection import KFold"
   ]
  },
  {
   "cell_type": "code",
   "execution_count": 141,
   "id": "150ff02a",
   "metadata": {},
   "outputs": [
    {
     "ename": "KeyError",
     "evalue": "\"Passing list-likes to .loc or [] with any missing labels is no longer supported. The following labels were missing: Int64Index([22, 24, 26, 30, 33,\\n            ...\\n            71, 73, 75, 76, 78],\\n           dtype='int64', length=17). See https://pandas.pydata.org/pandas-docs/stable/user_guide/indexing.html#deprecate-loc-reindex-listlike\"",
     "output_type": "error",
     "traceback": [
      "\u001B[1;31m---------------------------------------------------------------------------\u001B[0m",
      "\u001B[1;31mKeyError\u001B[0m                                  Traceback (most recent call last)",
      "\u001B[1;32m<ipython-input-141-d9f6f51d243c>\u001B[0m in \u001B[0;36m<module>\u001B[1;34m\u001B[0m\n\u001B[0;32m      9\u001B[0m   \u001B[1;32mfor\u001B[0m \u001B[0mnormalized_x_train_fold_idx\u001B[0m\u001B[1;33m,\u001B[0m \u001B[0mnormalized_x_valid_fold_idx\u001B[0m \u001B[1;32min\u001B[0m  \u001B[0mkf\u001B[0m\u001B[1;33m.\u001B[0m\u001B[0msplit\u001B[0m\u001B[1;33m(\u001B[0m\u001B[0mnormalized_x_train\u001B[0m\u001B[1;33m)\u001B[0m\u001B[1;33m:\u001B[0m \u001B[1;31m## Loop over the splits\u001B[0m\u001B[1;33m\u001B[0m\u001B[1;33m\u001B[0m\u001B[0m\n\u001B[0;32m     10\u001B[0m       \u001B[0mnormalized_x_train_fold\u001B[0m\u001B[1;33m=\u001B[0m \u001B[0mnormalized_x_train\u001B[0m\u001B[1;33m[\u001B[0m\u001B[0mnormalized_x_train_fold_idx\u001B[0m\u001B[1;33m]\u001B[0m \u001B[1;31m## fetch the values\u001B[0m\u001B[1;33m\u001B[0m\u001B[1;33m\u001B[0m\u001B[0m\n\u001B[1;32m---> 11\u001B[1;33m       \u001B[0my_train_fold\u001B[0m\u001B[1;33m=\u001B[0m \u001B[0my_train\u001B[0m\u001B[1;33m[\u001B[0m\u001B[0mnormalized_x_train_fold_idx\u001B[0m\u001B[1;33m]\u001B[0m\u001B[1;33m\u001B[0m\u001B[1;33m\u001B[0m\u001B[0m\n\u001B[0m\u001B[0;32m     12\u001B[0m \u001B[1;33m\u001B[0m\u001B[0m\n\u001B[0;32m     13\u001B[0m       \u001B[0mnormalized_x_test_fold\u001B[0m\u001B[1;33m=\u001B[0m \u001B[0mnormalized_x_train\u001B[0m\u001B[1;33m[\u001B[0m\u001B[0mnormalized_x_valid_fold_idx\u001B[0m\u001B[1;33m]\u001B[0m\u001B[1;33m\u001B[0m\u001B[1;33m\u001B[0m\u001B[0m\n",
      "\u001B[1;32m~\\anaconda3\\lib\\site-packages\\pandas\\core\\series.py\u001B[0m in \u001B[0;36m__getitem__\u001B[1;34m(self, key)\u001B[0m\n\u001B[0;32m    875\u001B[0m             \u001B[1;32mreturn\u001B[0m \u001B[0mself\u001B[0m\u001B[1;33m.\u001B[0m\u001B[0m_get_values\u001B[0m\u001B[1;33m(\u001B[0m\u001B[0mkey\u001B[0m\u001B[1;33m)\u001B[0m\u001B[1;33m\u001B[0m\u001B[1;33m\u001B[0m\u001B[0m\n\u001B[0;32m    876\u001B[0m \u001B[1;33m\u001B[0m\u001B[0m\n\u001B[1;32m--> 877\u001B[1;33m         \u001B[1;32mreturn\u001B[0m \u001B[0mself\u001B[0m\u001B[1;33m.\u001B[0m\u001B[0m_get_with\u001B[0m\u001B[1;33m(\u001B[0m\u001B[0mkey\u001B[0m\u001B[1;33m)\u001B[0m\u001B[1;33m\u001B[0m\u001B[1;33m\u001B[0m\u001B[0m\n\u001B[0m\u001B[0;32m    878\u001B[0m \u001B[1;33m\u001B[0m\u001B[0m\n\u001B[0;32m    879\u001B[0m     \u001B[1;32mdef\u001B[0m \u001B[0m_get_with\u001B[0m\u001B[1;33m(\u001B[0m\u001B[0mself\u001B[0m\u001B[1;33m,\u001B[0m \u001B[0mkey\u001B[0m\u001B[1;33m)\u001B[0m\u001B[1;33m:\u001B[0m\u001B[1;33m\u001B[0m\u001B[1;33m\u001B[0m\u001B[0m\n",
      "\u001B[1;32m~\\anaconda3\\lib\\site-packages\\pandas\\core\\series.py\u001B[0m in \u001B[0;36m_get_with\u001B[1;34m(self, key)\u001B[0m\n\u001B[0;32m    910\u001B[0m             \u001B[1;31m#  (i.e. self.iloc) or label-based (i.e. self.loc)\u001B[0m\u001B[1;33m\u001B[0m\u001B[1;33m\u001B[0m\u001B[1;33m\u001B[0m\u001B[0m\n\u001B[0;32m    911\u001B[0m             \u001B[1;32mif\u001B[0m \u001B[1;32mnot\u001B[0m \u001B[0mself\u001B[0m\u001B[1;33m.\u001B[0m\u001B[0mindex\u001B[0m\u001B[1;33m.\u001B[0m\u001B[0m_should_fallback_to_positional\u001B[0m\u001B[1;33m(\u001B[0m\u001B[1;33m)\u001B[0m\u001B[1;33m:\u001B[0m\u001B[1;33m\u001B[0m\u001B[1;33m\u001B[0m\u001B[0m\n\u001B[1;32m--> 912\u001B[1;33m                 \u001B[1;32mreturn\u001B[0m \u001B[0mself\u001B[0m\u001B[1;33m.\u001B[0m\u001B[0mloc\u001B[0m\u001B[1;33m[\u001B[0m\u001B[0mkey\u001B[0m\u001B[1;33m]\u001B[0m\u001B[1;33m\u001B[0m\u001B[1;33m\u001B[0m\u001B[0m\n\u001B[0m\u001B[0;32m    913\u001B[0m             \u001B[1;32melse\u001B[0m\u001B[1;33m:\u001B[0m\u001B[1;33m\u001B[0m\u001B[1;33m\u001B[0m\u001B[0m\n\u001B[0;32m    914\u001B[0m                 \u001B[1;32mreturn\u001B[0m \u001B[0mself\u001B[0m\u001B[1;33m.\u001B[0m\u001B[0miloc\u001B[0m\u001B[1;33m[\u001B[0m\u001B[0mkey\u001B[0m\u001B[1;33m]\u001B[0m\u001B[1;33m\u001B[0m\u001B[1;33m\u001B[0m\u001B[0m\n",
      "\u001B[1;32m~\\anaconda3\\lib\\site-packages\\pandas\\core\\indexing.py\u001B[0m in \u001B[0;36m__getitem__\u001B[1;34m(self, key)\u001B[0m\n\u001B[0;32m    893\u001B[0m \u001B[1;33m\u001B[0m\u001B[0m\n\u001B[0;32m    894\u001B[0m             \u001B[0mmaybe_callable\u001B[0m \u001B[1;33m=\u001B[0m \u001B[0mcom\u001B[0m\u001B[1;33m.\u001B[0m\u001B[0mapply_if_callable\u001B[0m\u001B[1;33m(\u001B[0m\u001B[0mkey\u001B[0m\u001B[1;33m,\u001B[0m \u001B[0mself\u001B[0m\u001B[1;33m.\u001B[0m\u001B[0mobj\u001B[0m\u001B[1;33m)\u001B[0m\u001B[1;33m\u001B[0m\u001B[1;33m\u001B[0m\u001B[0m\n\u001B[1;32m--> 895\u001B[1;33m             \u001B[1;32mreturn\u001B[0m \u001B[0mself\u001B[0m\u001B[1;33m.\u001B[0m\u001B[0m_getitem_axis\u001B[0m\u001B[1;33m(\u001B[0m\u001B[0mmaybe_callable\u001B[0m\u001B[1;33m,\u001B[0m \u001B[0maxis\u001B[0m\u001B[1;33m=\u001B[0m\u001B[0maxis\u001B[0m\u001B[1;33m)\u001B[0m\u001B[1;33m\u001B[0m\u001B[1;33m\u001B[0m\u001B[0m\n\u001B[0m\u001B[0;32m    896\u001B[0m \u001B[1;33m\u001B[0m\u001B[0m\n\u001B[0;32m    897\u001B[0m     \u001B[1;32mdef\u001B[0m \u001B[0m_is_scalar_access\u001B[0m\u001B[1;33m(\u001B[0m\u001B[0mself\u001B[0m\u001B[1;33m,\u001B[0m \u001B[0mkey\u001B[0m\u001B[1;33m:\u001B[0m \u001B[0mTuple\u001B[0m\u001B[1;33m)\u001B[0m\u001B[1;33m:\u001B[0m\u001B[1;33m\u001B[0m\u001B[1;33m\u001B[0m\u001B[0m\n",
      "\u001B[1;32m~\\anaconda3\\lib\\site-packages\\pandas\\core\\indexing.py\u001B[0m in \u001B[0;36m_getitem_axis\u001B[1;34m(self, key, axis)\u001B[0m\n\u001B[0;32m   1111\u001B[0m                     \u001B[1;32mraise\u001B[0m \u001B[0mValueError\u001B[0m\u001B[1;33m(\u001B[0m\u001B[1;34m\"Cannot index with multidimensional key\"\u001B[0m\u001B[1;33m)\u001B[0m\u001B[1;33m\u001B[0m\u001B[1;33m\u001B[0m\u001B[0m\n\u001B[0;32m   1112\u001B[0m \u001B[1;33m\u001B[0m\u001B[0m\n\u001B[1;32m-> 1113\u001B[1;33m                 \u001B[1;32mreturn\u001B[0m \u001B[0mself\u001B[0m\u001B[1;33m.\u001B[0m\u001B[0m_getitem_iterable\u001B[0m\u001B[1;33m(\u001B[0m\u001B[0mkey\u001B[0m\u001B[1;33m,\u001B[0m \u001B[0maxis\u001B[0m\u001B[1;33m=\u001B[0m\u001B[0maxis\u001B[0m\u001B[1;33m)\u001B[0m\u001B[1;33m\u001B[0m\u001B[1;33m\u001B[0m\u001B[0m\n\u001B[0m\u001B[0;32m   1114\u001B[0m \u001B[1;33m\u001B[0m\u001B[0m\n\u001B[0;32m   1115\u001B[0m             \u001B[1;31m# nested tuple slicing\u001B[0m\u001B[1;33m\u001B[0m\u001B[1;33m\u001B[0m\u001B[1;33m\u001B[0m\u001B[0m\n",
      "\u001B[1;32m~\\anaconda3\\lib\\site-packages\\pandas\\core\\indexing.py\u001B[0m in \u001B[0;36m_getitem_iterable\u001B[1;34m(self, key, axis)\u001B[0m\n\u001B[0;32m   1051\u001B[0m \u001B[1;33m\u001B[0m\u001B[0m\n\u001B[0;32m   1052\u001B[0m         \u001B[1;31m# A collection of keys\u001B[0m\u001B[1;33m\u001B[0m\u001B[1;33m\u001B[0m\u001B[1;33m\u001B[0m\u001B[0m\n\u001B[1;32m-> 1053\u001B[1;33m         \u001B[0mkeyarr\u001B[0m\u001B[1;33m,\u001B[0m \u001B[0mindexer\u001B[0m \u001B[1;33m=\u001B[0m \u001B[0mself\u001B[0m\u001B[1;33m.\u001B[0m\u001B[0m_get_listlike_indexer\u001B[0m\u001B[1;33m(\u001B[0m\u001B[0mkey\u001B[0m\u001B[1;33m,\u001B[0m \u001B[0maxis\u001B[0m\u001B[1;33m,\u001B[0m \u001B[0mraise_missing\u001B[0m\u001B[1;33m=\u001B[0m\u001B[1;32mFalse\u001B[0m\u001B[1;33m)\u001B[0m\u001B[1;33m\u001B[0m\u001B[1;33m\u001B[0m\u001B[0m\n\u001B[0m\u001B[0;32m   1054\u001B[0m         return self.obj._reindex_with_indexers(\n\u001B[0;32m   1055\u001B[0m             \u001B[1;33m{\u001B[0m\u001B[0maxis\u001B[0m\u001B[1;33m:\u001B[0m \u001B[1;33m[\u001B[0m\u001B[0mkeyarr\u001B[0m\u001B[1;33m,\u001B[0m \u001B[0mindexer\u001B[0m\u001B[1;33m]\u001B[0m\u001B[1;33m}\u001B[0m\u001B[1;33m,\u001B[0m \u001B[0mcopy\u001B[0m\u001B[1;33m=\u001B[0m\u001B[1;32mTrue\u001B[0m\u001B[1;33m,\u001B[0m \u001B[0mallow_dups\u001B[0m\u001B[1;33m=\u001B[0m\u001B[1;32mTrue\u001B[0m\u001B[1;33m\u001B[0m\u001B[1;33m\u001B[0m\u001B[0m\n",
      "\u001B[1;32m~\\anaconda3\\lib\\site-packages\\pandas\\core\\indexing.py\u001B[0m in \u001B[0;36m_get_listlike_indexer\u001B[1;34m(self, key, axis, raise_missing)\u001B[0m\n\u001B[0;32m   1264\u001B[0m             \u001B[0mkeyarr\u001B[0m\u001B[1;33m,\u001B[0m \u001B[0mindexer\u001B[0m\u001B[1;33m,\u001B[0m \u001B[0mnew_indexer\u001B[0m \u001B[1;33m=\u001B[0m \u001B[0max\u001B[0m\u001B[1;33m.\u001B[0m\u001B[0m_reindex_non_unique\u001B[0m\u001B[1;33m(\u001B[0m\u001B[0mkeyarr\u001B[0m\u001B[1;33m)\u001B[0m\u001B[1;33m\u001B[0m\u001B[1;33m\u001B[0m\u001B[0m\n\u001B[0;32m   1265\u001B[0m \u001B[1;33m\u001B[0m\u001B[0m\n\u001B[1;32m-> 1266\u001B[1;33m         \u001B[0mself\u001B[0m\u001B[1;33m.\u001B[0m\u001B[0m_validate_read_indexer\u001B[0m\u001B[1;33m(\u001B[0m\u001B[0mkeyarr\u001B[0m\u001B[1;33m,\u001B[0m \u001B[0mindexer\u001B[0m\u001B[1;33m,\u001B[0m \u001B[0maxis\u001B[0m\u001B[1;33m,\u001B[0m \u001B[0mraise_missing\u001B[0m\u001B[1;33m=\u001B[0m\u001B[0mraise_missing\u001B[0m\u001B[1;33m)\u001B[0m\u001B[1;33m\u001B[0m\u001B[1;33m\u001B[0m\u001B[0m\n\u001B[0m\u001B[0;32m   1267\u001B[0m         \u001B[1;32mreturn\u001B[0m \u001B[0mkeyarr\u001B[0m\u001B[1;33m,\u001B[0m \u001B[0mindexer\u001B[0m\u001B[1;33m\u001B[0m\u001B[1;33m\u001B[0m\u001B[0m\n\u001B[0;32m   1268\u001B[0m \u001B[1;33m\u001B[0m\u001B[0m\n",
      "\u001B[1;32m~\\anaconda3\\lib\\site-packages\\pandas\\core\\indexing.py\u001B[0m in \u001B[0;36m_validate_read_indexer\u001B[1;34m(self, key, indexer, axis, raise_missing)\u001B[0m\n\u001B[0;32m   1319\u001B[0m \u001B[1;33m\u001B[0m\u001B[0m\n\u001B[0;32m   1320\u001B[0m             \u001B[1;32mwith\u001B[0m \u001B[0moption_context\u001B[0m\u001B[1;33m(\u001B[0m\u001B[1;34m\"display.max_seq_items\"\u001B[0m\u001B[1;33m,\u001B[0m \u001B[1;36m10\u001B[0m\u001B[1;33m,\u001B[0m \u001B[1;34m\"display.width\"\u001B[0m\u001B[1;33m,\u001B[0m \u001B[1;36m80\u001B[0m\u001B[1;33m)\u001B[0m\u001B[1;33m:\u001B[0m\u001B[1;33m\u001B[0m\u001B[1;33m\u001B[0m\u001B[0m\n\u001B[1;32m-> 1321\u001B[1;33m                 raise KeyError(\n\u001B[0m\u001B[0;32m   1322\u001B[0m                     \u001B[1;34m\"Passing list-likes to .loc or [] with any missing labels \"\u001B[0m\u001B[1;33m\u001B[0m\u001B[1;33m\u001B[0m\u001B[0m\n\u001B[0;32m   1323\u001B[0m                     \u001B[1;34m\"is no longer supported. \"\u001B[0m\u001B[1;33m\u001B[0m\u001B[1;33m\u001B[0m\u001B[0m\n",
      "\u001B[1;31mKeyError\u001B[0m: \"Passing list-likes to .loc or [] with any missing labels is no longer supported. The following labels were missing: Int64Index([22, 24, 26, 30, 33,\\n            ...\\n            71, 73, 75, 76, 78],\\n           dtype='int64', length=17). See https://pandas.pydata.org/pandas-docs/stable/user_guide/indexing.html#deprecate-loc-reindex-listlike\""
     ]
    }
   ],
   "source": [
    "n_splits= 4 ## Choose the number of splits\n",
    "kf= KFold(n_splits= n_splits) ## Call the K Fold function\n",
    "\n",
    "accuracy_k= [] ## Keep track of the accuracy for each K\n",
    "k_values= list(range(1,30,2)) ## Search for the best value of K\n",
    "\n",
    "for k in k_values: ## Loop over the K values\n",
    "  accuracy_fold= 0\n",
    "  for normalized_x_train_fold_idx, normalized_x_valid_fold_idx in  kf.split(normalized_x_train): ## Loop over the splits\n",
    "      normalized_x_train_fold= normalized_x_train[normalized_x_train_fold_idx] ## fetch the values\n",
    "      y_train_fold= y_train[normalized_x_train_fold_idx]\n",
    "\n",
    "      normalized_x_test_fold= normalized_x_train[normalized_x_valid_fold_idx]\n",
    "      y_valid_fold= y_train[normalized_x_valid_fold_idx]\n",
    "      y_pred_fold= KNN_from_scratch(normalized_x_train_fold, y_train_fold, normalized_x_test_fold, k)\n",
    "\n",
    "      accuracy_fold+= accuracy_score (y_pred_fold, y_valid_fold) ## Accumulate the accuracy\n",
    "  accuracy_fold= accuracy_fold/ n_splits ## Divide by the number of splits\n",
    "  accuracy_k.append(accuracy_fold)"
   ]
  },
  {
   "cell_type": "code",
   "execution_count": null,
   "id": "8d1993de",
   "metadata": {},
   "outputs": [],
   "source": []
  }
 ],
 "metadata": {
  "kernelspec": {
   "display_name": "Python 3 (ipykernel)",
   "language": "python",
   "name": "python3"
  },
  "language_info": {
   "codemirror_mode": {
    "name": "ipython",
    "version": 3
   },
   "file_extension": ".py",
   "mimetype": "text/x-python",
   "name": "python",
   "nbconvert_exporter": "python",
   "pygments_lexer": "ipython3",
   "version": "3.9.7"
  }
 },
 "nbformat": 4,
 "nbformat_minor": 5
}