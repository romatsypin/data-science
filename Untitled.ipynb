{
 "cells": [
  {
   "cell_type": "markdown",
   "id": "2a4de844",
   "metadata": {},
   "source": [
    "## Do the imports"
   ]
  },
  {
   "cell_type": "code",
   "execution_count": 262,
   "id": "c5ed799f",
   "metadata": {},
   "outputs": [],
   "source": [
    "import matplotlib.pyplot as plt\n",
    "import numpy as np\n",
    "import pandas as pd\n",
    "import seaborn as sns\n",
    "\n",
    "from sklearn import datasets\n",
    "from sklearn.model_selection import train_test_split , KFold\n",
    "from sklearn.preprocessing import Normalizer\n",
    "from sklearn.metrics import accuracy_score\n",
    "from sklearn.neighbors import KNeighborsClassifier\n",
    "\n",
    "from collections import Counter"
   ]
  },
  {
   "cell_type": "markdown",
   "id": "f984c545",
   "metadata": {},
   "source": [
    "## Import and view the data"
   ]
  },
  {
   "cell_type": "code",
   "execution_count": 263,
   "id": "7c32c975",
   "metadata": {},
   "outputs": [],
   "source": [
    "data = pd.read_excel(\"C:/Users/romat/Documents/Assignment/twitter.xlsx\")"
   ]
  },
  {
   "cell_type": "code",
   "execution_count": 264,
   "id": "f689390f",
   "metadata": {},
   "outputs": [
    {
     "data": {
      "text/html": [
       "<div>\n",
       "<style scoped>\n",
       "    .dataframe tbody tr th:only-of-type {\n",
       "        vertical-align: middle;\n",
       "    }\n",
       "\n",
       "    .dataframe tbody tr th {\n",
       "        vertical-align: top;\n",
       "    }\n",
       "\n",
       "    .dataframe thead th {\n",
       "        text-align: right;\n",
       "    }\n",
       "</style>\n",
       "<table border=\"1\" class=\"dataframe\">\n",
       "  <thead>\n",
       "    <tr style=\"text-align: right;\">\n",
       "      <th></th>\n",
       "      <th>Column1.created_at</th>\n",
       "      <th>Date</th>\n",
       "      <th>Time</th>\n",
       "      <th>Column1.text</th>\n",
       "      <th>Own or Retweet?</th>\n",
       "      <th>Column1.truncated</th>\n",
       "      <th>Column1.metadata</th>\n",
       "      <th>Column1.source</th>\n",
       "      <th>Source</th>\n",
       "      <th>Column1.is_quote_status</th>\n",
       "      <th>Column1.retweet_count</th>\n",
       "      <th>Column1.favorite_count</th>\n",
       "      <th>Column1.lang</th>\n",
       "    </tr>\n",
       "  </thead>\n",
       "  <tbody>\n",
       "    <tr>\n",
       "      <th>0</th>\n",
       "      <td>Wed Dec 01 08:10:06</td>\n",
       "      <td>2001-12-01</td>\n",
       "      <td>08:10:06</td>\n",
       "      <td>RT @IGN: In this new trailer, Master Chief car...</td>\n",
       "      <td>Retweet</td>\n",
       "      <td>False</td>\n",
       "      <td>[Record]</td>\n",
       "      <td>&lt;a href=\"https://mobile.twitter.com\" rel=\"nofo...</td>\n",
       "      <td>Twitter Web App</td>\n",
       "      <td>False</td>\n",
       "      <td>246</td>\n",
       "      <td>0</td>\n",
       "      <td>en</td>\n",
       "    </tr>\n",
       "    <tr>\n",
       "      <th>1</th>\n",
       "      <td>Wed Dec 01 08:09:59</td>\n",
       "      <td>2001-12-01</td>\n",
       "      <td>08:09:59</td>\n",
       "      <td>RT @Woodkid: Thank you @HIDEO_KOJIMA_EN ! http...</td>\n",
       "      <td>Retweet</td>\n",
       "      <td>False</td>\n",
       "      <td>[Record]</td>\n",
       "      <td>&lt;a href=\"https://mobile.twitter.com\" rel=\"nofo...</td>\n",
       "      <td>Twitter Web App</td>\n",
       "      <td>False</td>\n",
       "      <td>273</td>\n",
       "      <td>0</td>\n",
       "      <td>en</td>\n",
       "    </tr>\n",
       "    <tr>\n",
       "      <th>2</th>\n",
       "      <td>Wed Dec 01 08:09:47</td>\n",
       "      <td>2001-12-01</td>\n",
       "      <td>08:09:47</td>\n",
       "      <td>RT @DannyBoi_2077: Truck ran out of juice.. so...</td>\n",
       "      <td>Retweet</td>\n",
       "      <td>False</td>\n",
       "      <td>[Record]</td>\n",
       "      <td>&lt;a href=\"https://mobile.twitter.com\" rel=\"nofo...</td>\n",
       "      <td>Twitter Web App</td>\n",
       "      <td>False</td>\n",
       "      <td>16</td>\n",
       "      <td>0</td>\n",
       "      <td>en</td>\n",
       "    </tr>\n",
       "    <tr>\n",
       "      <th>3</th>\n",
       "      <td>Wed Dec 01 05:05:35</td>\n",
       "      <td>2001-12-01</td>\n",
       "      <td>05:05:35</td>\n",
       "      <td>RT @DannyBoi_2077: My reaction when the day DS...</td>\n",
       "      <td>Retweet</td>\n",
       "      <td>False</td>\n",
       "      <td>[Record]</td>\n",
       "      <td>&lt;a href=\"https://mobile.twitter.com\" rel=\"nofo...</td>\n",
       "      <td>Twitter Web App</td>\n",
       "      <td>False</td>\n",
       "      <td>17</td>\n",
       "      <td>0</td>\n",
       "      <td>en</td>\n",
       "    </tr>\n",
       "    <tr>\n",
       "      <th>4</th>\n",
       "      <td>Wed Dec 01 03:38:59</td>\n",
       "      <td>2001-12-01</td>\n",
       "      <td>03:38:59</td>\n",
       "      <td>RT @RetroNewsNow: 🎄On November 30, 1977, durin...</td>\n",
       "      <td>Retweet</td>\n",
       "      <td>False</td>\n",
       "      <td>[Record]</td>\n",
       "      <td>&lt;a href=\"http://twitter.com/download/iphone\" r...</td>\n",
       "      <td>iPhone</td>\n",
       "      <td>False</td>\n",
       "      <td>314</td>\n",
       "      <td>0</td>\n",
       "      <td>en</td>\n",
       "    </tr>\n",
       "  </tbody>\n",
       "</table>\n",
       "</div>"
      ],
      "text/plain": [
       "    Column1.created_at       Date      Time  \\\n",
       "0  Wed Dec 01 08:10:06 2001-12-01  08:10:06   \n",
       "1  Wed Dec 01 08:09:59 2001-12-01  08:09:59   \n",
       "2  Wed Dec 01 08:09:47 2001-12-01  08:09:47   \n",
       "3  Wed Dec 01 05:05:35 2001-12-01  05:05:35   \n",
       "4  Wed Dec 01 03:38:59 2001-12-01  03:38:59   \n",
       "\n",
       "                                        Column1.text Own or Retweet?  \\\n",
       "0  RT @IGN: In this new trailer, Master Chief car...        Retweet    \n",
       "1  RT @Woodkid: Thank you @HIDEO_KOJIMA_EN ! http...        Retweet    \n",
       "2  RT @DannyBoi_2077: Truck ran out of juice.. so...        Retweet    \n",
       "3  RT @DannyBoi_2077: My reaction when the day DS...        Retweet    \n",
       "4  RT @RetroNewsNow: 🎄On November 30, 1977, durin...        Retweet    \n",
       "\n",
       "   Column1.truncated Column1.metadata  \\\n",
       "0              False         [Record]   \n",
       "1              False         [Record]   \n",
       "2              False         [Record]   \n",
       "3              False         [Record]   \n",
       "4              False         [Record]   \n",
       "\n",
       "                                      Column1.source            Source  \\\n",
       "0  <a href=\"https://mobile.twitter.com\" rel=\"nofo...  Twitter Web App    \n",
       "1  <a href=\"https://mobile.twitter.com\" rel=\"nofo...  Twitter Web App    \n",
       "2  <a href=\"https://mobile.twitter.com\" rel=\"nofo...  Twitter Web App    \n",
       "3  <a href=\"https://mobile.twitter.com\" rel=\"nofo...  Twitter Web App    \n",
       "4  <a href=\"http://twitter.com/download/iphone\" r...            iPhone   \n",
       "\n",
       "   Column1.is_quote_status  Column1.retweet_count  Column1.favorite_count  \\\n",
       "0                    False                    246                       0   \n",
       "1                    False                    273                       0   \n",
       "2                    False                     16                       0   \n",
       "3                    False                     17                       0   \n",
       "4                    False                    314                       0   \n",
       "\n",
       "  Column1.lang  \n",
       "0           en  \n",
       "1           en  \n",
       "2           en  \n",
       "3           en  \n",
       "4           en  "
      ]
     },
     "execution_count": 264,
     "metadata": {},
     "output_type": "execute_result"
    }
   ],
   "source": [
    "data.head()"
   ]
  },
  {
   "cell_type": "markdown",
   "id": "4884729d",
   "metadata": {},
   "source": [
    "## Subset the columns for analysis"
   ]
  },
  {
   "cell_type": "code",
   "execution_count": 265,
   "id": "f4127cea",
   "metadata": {},
   "outputs": [],
   "source": [
    "data1 = data[[\"Column1.text\", \"Own or Retweet?\", \"Column1.retweet_count\"]]"
   ]
  },
  {
   "cell_type": "code",
   "execution_count": 266,
   "id": "088a4d45",
   "metadata": {},
   "outputs": [
    {
     "data": {
      "text/html": [
       "<div>\n",
       "<style scoped>\n",
       "    .dataframe tbody tr th:only-of-type {\n",
       "        vertical-align: middle;\n",
       "    }\n",
       "\n",
       "    .dataframe tbody tr th {\n",
       "        vertical-align: top;\n",
       "    }\n",
       "\n",
       "    .dataframe thead th {\n",
       "        text-align: right;\n",
       "    }\n",
       "</style>\n",
       "<table border=\"1\" class=\"dataframe\">\n",
       "  <thead>\n",
       "    <tr style=\"text-align: right;\">\n",
       "      <th></th>\n",
       "      <th>Column1.text</th>\n",
       "      <th>Own or Retweet?</th>\n",
       "      <th>Column1.retweet_count</th>\n",
       "    </tr>\n",
       "  </thead>\n",
       "  <tbody>\n",
       "    <tr>\n",
       "      <th>0</th>\n",
       "      <td>RT @IGN: In this new trailer, Master Chief car...</td>\n",
       "      <td>Retweet</td>\n",
       "      <td>246</td>\n",
       "    </tr>\n",
       "    <tr>\n",
       "      <th>1</th>\n",
       "      <td>RT @Woodkid: Thank you @HIDEO_KOJIMA_EN ! http...</td>\n",
       "      <td>Retweet</td>\n",
       "      <td>273</td>\n",
       "    </tr>\n",
       "    <tr>\n",
       "      <th>2</th>\n",
       "      <td>RT @DannyBoi_2077: Truck ran out of juice.. so...</td>\n",
       "      <td>Retweet</td>\n",
       "      <td>16</td>\n",
       "    </tr>\n",
       "    <tr>\n",
       "      <th>3</th>\n",
       "      <td>RT @DannyBoi_2077: My reaction when the day DS...</td>\n",
       "      <td>Retweet</td>\n",
       "      <td>17</td>\n",
       "    </tr>\n",
       "    <tr>\n",
       "      <th>4</th>\n",
       "      <td>RT @RetroNewsNow: 🎄On November 30, 1977, durin...</td>\n",
       "      <td>Retweet</td>\n",
       "      <td>314</td>\n",
       "    </tr>\n",
       "  </tbody>\n",
       "</table>\n",
       "</div>"
      ],
      "text/plain": [
       "                                        Column1.text Own or Retweet?  \\\n",
       "0  RT @IGN: In this new trailer, Master Chief car...        Retweet    \n",
       "1  RT @Woodkid: Thank you @HIDEO_KOJIMA_EN ! http...        Retweet    \n",
       "2  RT @DannyBoi_2077: Truck ran out of juice.. so...        Retweet    \n",
       "3  RT @DannyBoi_2077: My reaction when the day DS...        Retweet    \n",
       "4  RT @RetroNewsNow: 🎄On November 30, 1977, durin...        Retweet    \n",
       "\n",
       "   Column1.retweet_count  \n",
       "0                    246  \n",
       "1                    273  \n",
       "2                     16  \n",
       "3                     17  \n",
       "4                    314  "
      ]
     },
     "execution_count": 266,
     "metadata": {},
     "output_type": "execute_result"
    }
   ],
   "source": [
    "data1.head()"
   ]
  },
  {
   "cell_type": "code",
   "execution_count": 267,
   "id": "9b363f7e",
   "metadata": {},
   "outputs": [
    {
     "name": "stderr",
     "output_type": "stream",
     "text": [
      "C:\\Users\\romat\\AppData\\Local\\Temp/ipykernel_22604/1947008203.py:1: SettingWithCopyWarning: \n",
      "A value is trying to be set on a copy of a slice from a DataFrame.\n",
      "Try using .loc[row_indexer,col_indexer] = value instead\n",
      "\n",
      "See the caveats in the documentation: https://pandas.pydata.org/pandas-docs/stable/user_guide/indexing.html#returning-a-view-versus-a-copy\n",
      "  data1[\"Tweet Length\"] = data1[\"Column1.text\"].map(len)\n"
     ]
    }
   ],
   "source": [
    "data1[\"Tweet Length\"] = data1[\"Column1.text\"].map(len)"
   ]
  },
  {
   "cell_type": "code",
   "execution_count": 268,
   "id": "b9aa46d4",
   "metadata": {},
   "outputs": [
    {
     "name": "stderr",
     "output_type": "stream",
     "text": [
      "C:\\Users\\romat\\AppData\\Local\\Temp/ipykernel_22604/3795821963.py:1: SettingWithCopyWarning: \n",
      "A value is trying to be set on a copy of a slice from a DataFrame.\n",
      "Try using .loc[row_indexer,col_indexer] = value instead\n",
      "\n",
      "See the caveats in the documentation: https://pandas.pydata.org/pandas-docs/stable/user_guide/indexing.html#returning-a-view-versus-a-copy\n",
      "  data1[\"Retweet\"] = pd.get_dummies(data1[\"Own or Retweet?\"])[\"Retweet \"]\n"
     ]
    }
   ],
   "source": [
    "data1[\"Retweet\"] = pd.get_dummies(data1[\"Own or Retweet?\"])[\"Retweet \"]\n",
    "data1 = data1.drop([\"Own or Retweet?\", \"Column1.text\"], axis = 1)"
   ]
  },
  {
   "cell_type": "markdown",
   "id": "1e336823",
   "metadata": {},
   "source": [
    "## Split data into train and test"
   ]
  },
  {
   "cell_type": "code",
   "execution_count": 269,
   "id": "2e913229",
   "metadata": {},
   "outputs": [],
   "source": [
    "x = data1[[\"Column1.retweet_count\", \"Tweet Length\"]]\n",
    "y = data1[\"Retweet\"]\n",
    "#y = a + bX + e"
   ]
  },
  {
   "cell_type": "code",
   "execution_count": 270,
   "id": "0f156981",
   "metadata": {},
   "outputs": [],
   "source": [
    "x_train, x_test, y_train, y_test= train_test_split(x, y,\n",
    "                                                   test_size= 0.2,\n",
    "                                                   shuffle= True, #shuffle the data to avoid bias\n",
    "                                                   random_state= 0)"
   ]
  },
  {
   "cell_type": "markdown",
   "id": "18d5c1c7",
   "metadata": {},
   "source": [
    "## Instantiate and fit the classifier"
   ]
  },
  {
   "cell_type": "code",
   "execution_count": 271,
   "id": "754c0759",
   "metadata": {},
   "outputs": [],
   "source": [
    "knn=KNeighborsClassifier()"
   ]
  },
  {
   "cell_type": "code",
   "execution_count": 272,
   "id": "31448853",
   "metadata": {},
   "outputs": [
    {
     "data": {
      "text/plain": [
       "KNeighborsClassifier()"
      ]
     },
     "execution_count": 272,
     "metadata": {},
     "output_type": "execute_result"
    }
   ],
   "source": [
    "knn.fit(x_train,y_train)"
   ]
  },
  {
   "cell_type": "code",
   "execution_count": 273,
   "id": "9d9174c9",
   "metadata": {},
   "outputs": [
    {
     "name": "stdout",
     "output_type": "stream",
     "text": [
      "0.6\n"
     ]
    }
   ],
   "source": [
    "## View the score in automatic and manual way\n",
    "print(knn.score(x_test,y_test))"
   ]
  },
  {
   "cell_type": "code",
   "execution_count": 274,
   "id": "4bd8102c",
   "metadata": {},
   "outputs": [
    {
     "name": "stderr",
     "output_type": "stream",
     "text": [
      "C:\\Users\\romat\\AppData\\Local\\Temp/ipykernel_22604/418478617.py:3: SettingWithCopyWarning: \n",
      "A value is trying to be set on a copy of a slice from a DataFrame.\n",
      "Try using .loc[row_indexer,col_indexer] = value instead\n",
      "\n",
      "See the caveats in the documentation: https://pandas.pydata.org/pandas-docs/stable/user_guide/indexing.html#returning-a-view-versus-a-copy\n",
      "  check[\"prediction\"] = pred\n"
     ]
    }
   ],
   "source": [
    "pred = knn.predict(x_test)\n",
    "check = x_test[:]\n",
    "check[\"prediction\"] = pred\n",
    "check = check.sort_index()\n",
    "a = list(check.index.values)\n",
    "check[\"real\"] = data1.iloc[a, :][\"Retweet\"]"
   ]
  },
  {
   "cell_type": "code",
   "execution_count": 275,
   "id": "74042410",
   "metadata": {},
   "outputs": [
    {
     "name": "stdout",
     "output_type": "stream",
     "text": [
      "    Column1.retweet_count  Tweet Length  prediction  real\n",
      "2                      16           137           1     1\n",
      "7                      87            33           1     0\n",
      "8                     433           140           1     1\n",
      "13                     14           140           1     1\n",
      "16                     73           106           1     1\n",
      "22                    759            57           0     0\n",
      "24                      5            77           1     0\n",
      "26                     14           140           1     0\n",
      "30                    253            98           1     0\n",
      "33                     94           140           1     1\n",
      "53                    161           135           1     1\n",
      "54                     31            51           0     0\n",
      "55                     61           114           0     1\n",
      "73                    171            83           0     1\n",
      "75                     18           140           1     0\n",
      "78                    289           140           1     1\n",
      "86                     23           140           1     1\n",
      "92                     13           112           1     1\n",
      "93                     21           140           1     0\n",
      "95                    161           101           1     1\n"
     ]
    },
    {
     "data": {
      "text/plain": [
       "0.6"
      ]
     },
     "execution_count": 275,
     "metadata": {},
     "output_type": "execute_result"
    }
   ],
   "source": [
    "print(check)\n",
    "(12/20)"
   ]
  },
  {
   "cell_type": "markdown",
   "id": "889ca7c8",
   "metadata": {},
   "source": [
    "## Classify an abstract tweet"
   ]
  },
  {
   "cell_type": "code",
   "execution_count": 276,
   "id": "3b2e0e25",
   "metadata": {},
   "outputs": [
    {
     "name": "stderr",
     "output_type": "stream",
     "text": [
      "C:\\Users\\romat\\miniconda3\\envs\\data\\lib\\site-packages\\sklearn\\base.py:445: UserWarning: X does not have valid feature names, but KNeighborsClassifier was fitted with feature names\n",
      "  warnings.warn(\n",
      "C:\\Users\\romat\\miniconda3\\envs\\data\\lib\\site-packages\\sklearn\\base.py:561: FutureWarning: Arrays of bytes/strings is being converted to decimal numbers if dtype='numeric'. This behavior is deprecated in 0.24 and will be removed in 1.1 (renaming of 0.26). Please convert your data to numeric values explicitly instead.\n",
      "  X = check_array(X, **check_params)\n"
     ]
    },
    {
     "data": {
      "text/plain": [
       "array([0], dtype=uint8)"
      ]
     },
     "execution_count": 276,
     "metadata": {},
     "output_type": "execute_result"
    }
   ],
   "source": [
    "knn.predict([[\"1000\", \"10\"]])"
   ]
  },
  {
   "cell_type": "markdown",
   "id": "770b1e0a",
   "metadata": {},
   "source": [
    "# Let's try some things out"
   ]
  },
  {
   "cell_type": "markdown",
   "id": "0be977c9",
   "metadata": {},
   "source": [
    "## Normalize the data"
   ]
  },
  {
   "cell_type": "code",
   "execution_count": 284,
   "id": "5a309122",
   "metadata": {},
   "outputs": [],
   "source": [
    "scaler= Normalizer().fit(x_train) # the scaler is fitted to the training set\n",
    "normalized_x_train= scaler.transform(x_train) # the scaler is applied to the training set\n",
    "normalized_x_test= scaler.transform(x_test)"
   ]
  },
  {
   "cell_type": "code",
   "execution_count": 286,
   "id": "127f0338",
   "metadata": {},
   "outputs": [
    {
     "name": "stdout",
     "output_type": "stream",
     "text": [
      "[[0.09950372 0.99503719]\n",
      " [0.16211259 0.98677227]\n",
      " [0.11599991 0.99324922]\n",
      " [0.4717921  0.88170982]\n",
      " [0.12752174 0.99183578]]\n",
      "    Column1.retweet_count  Tweet Length\n",
      "26                     14           140\n",
      "86                     23           140\n",
      "2                      16           137\n",
      "55                     61           114\n",
      "75                     18           140\n"
     ]
    }
   ],
   "source": [
    "print(normalized_x_test[:5])\n",
    "print(x_test.head())"
   ]
  },
  {
   "cell_type": "code",
   "execution_count": 287,
   "id": "5f66af50",
   "metadata": {},
   "outputs": [
    {
     "data": {
      "image/png": "[encoded data removed]",
      "text/plain": [
       "<Figure size 432x288 with 1 Axes>"
      ]
     },
     "metadata": {
      "needs_background": "light"
     },
     "output_type": "display_data"
    }
   ],
   "source": [
    "sns.scatterplot(data = pd.DataFrame(np.c_[x_train, y_train]), x = 0, y = 1, hue = 2)\n",
    "plt.xlabel('Retweets')\n",
    "plt.ylabel(\"Tweet Length\")\n",
    "plt.legend().get_texts()[0].set_text(\"0\")"
   ]
  },
  {
   "cell_type": "code",
   "execution_count": 288,
   "id": "8813cd38",
   "metadata": {},
   "outputs": [
    {
     "data": {
      "image/png": "[encoded data removed]",
      "text/plain": [
       "<Figure size 432x288 with 1 Axes>"
      ]
     },
     "metadata": {
      "needs_background": "light"
     },
     "output_type": "display_data"
    }
   ],
   "source": [
    "sns.scatterplot(data = pd.DataFrame(np.c_[normalized_x_train, y_train]), x = 0, y = 1, hue = 2)\n",
    "plt.xlabel('Retweets')\n",
    "plt.ylabel(\"Tweet Length\")\n",
    "plt.legend().get_texts()[0].set_text(\"0\")"
   ]
  },
  {
   "cell_type": "markdown",
   "id": "af034a7c",
   "metadata": {},
   "source": [
    "## Train and assess the classifier on the normalized data"
   ]
  },
  {
   "cell_type": "code",
   "execution_count": 292,
   "id": "eebcf287",
   "metadata": {},
   "outputs": [],
   "source": [
    "knn=KNeighborsClassifier()"
   ]
  },
  {
   "cell_type": "code",
   "execution_count": 293,
   "id": "1a86b9f1",
   "metadata": {},
   "outputs": [
    {
     "data": {
      "text/plain": [
       "KNeighborsClassifier()"
      ]
     },
     "execution_count": 293,
     "metadata": {},
     "output_type": "execute_result"
    }
   ],
   "source": [
    "knn.fit(normalized_x_train,y_train)"
   ]
  },
  {
   "cell_type": "code",
   "execution_count": 294,
   "id": "f5c4316c",
   "metadata": {},
   "outputs": [
    {
     "name": "stdout",
     "output_type": "stream",
     "text": [
      "0.55\n"
     ]
    }
   ],
   "source": [
    "print(knn.score(normalized_x_test,y_test))"
   ]
  },
  {
   "cell_type": "markdown",
   "id": "c1c4fb43",
   "metadata": {},
   "source": [
    "## Let's play with the K"
   ]
  },
  {
   "cell_type": "code",
   "execution_count": 296,
   "id": "4e1e0eb2",
   "metadata": {},
   "outputs": [
    {
     "name": "stdout",
     "output_type": "stream",
     "text": [
      "0.55\n"
     ]
    }
   ],
   "source": [
    "knn=KNeighborsClassifier(3)\n",
    "knn.fit(x_train,y_train)\n",
    "print(knn.score(x_test,y_test))"
   ]
  },
  {
   "cell_type": "code",
   "execution_count": 297,
   "id": "cd0ffb08",
   "metadata": {},
   "outputs": [
    {
     "name": "stdout",
     "output_type": "stream",
     "text": [
      "0.6\n"
     ]
    }
   ],
   "source": [
    "knn=KNeighborsClassifier(7)\n",
    "knn.fit(x_train,y_train)\n",
    "print(knn.score(x_test,y_test))"
   ]
  },
  {
   "cell_type": "code",
   "execution_count": 298,
   "id": "c584b60f",
   "metadata": {},
   "outputs": [
    {
     "name": "stdout",
     "output_type": "stream",
     "text": [
      "0.7\n"
     ]
    }
   ],
   "source": [
    "knn=KNeighborsClassifier(9)\n",
    "knn.fit(x_train,y_train)\n",
    "print(knn.score(x_test,y_test))"
   ]
  },
  {
   "cell_type": "code",
   "execution_count": 299,
   "id": "7d1fed64",
   "metadata": {},
   "outputs": [
    {
     "name": "stdout",
     "output_type": "stream",
     "text": [
      "0.7\n"
     ]
    }
   ],
   "source": [
    "knn=KNeighborsClassifier(11)\n",
    "knn.fit(x_train,y_train)\n",
    "print(knn.score(x_test,y_test))"
   ]
  },
  {
   "cell_type": "code",
   "execution_count": 300,
   "id": "1da27eca",
   "metadata": {},
   "outputs": [
    {
     "name": "stdout",
     "output_type": "stream",
     "text": [
      "0.75\n"
     ]
    }
   ],
   "source": [
    "knn=KNeighborsClassifier(15)\n",
    "knn.fit(x_train,y_train)\n",
    "print(knn.score(x_test,y_test))"
   ]
  },
  {
   "cell_type": "code",
   "execution_count": 302,
   "id": "675897ac",
   "metadata": {},
   "outputs": [
    {
     "name": "stdout",
     "output_type": "stream",
     "text": [
      "0.65\n"
     ]
    }
   ],
   "source": [
    "knn=KNeighborsClassifier(19)\n",
    "knn.fit(x_train,y_train)\n",
    "print(knn.score(x_test,y_test))"
   ]
  },
  {
   "cell_type": "markdown",
   "id": "10fb7524",
   "metadata": {},
   "source": [
    "# Let's use the best K and change the train/split"
   ]
  },
  {
   "cell_type": "code",
   "execution_count": 303,
   "id": "723a8600",
   "metadata": {},
   "outputs": [
    {
     "name": "stdout",
     "output_type": "stream",
     "text": [
      "0.6\n",
      "0.6\n",
      "0.6\n"
     ]
    }
   ],
   "source": [
    "x_train, x_test, y_train, y_test= train_test_split(x, y,\n",
    "                                                   test_size= 0.05,\n",
    "                                                   shuffle= True, #shuffle the data to avoid bias\n",
    "                                                   random_state= 0)\n",
    "knn=KNeighborsClassifier(9)\n",
    "knn.fit(x_train,y_train)\n",
    "print(knn.score(x_test,y_test))\n",
    "knn=KNeighborsClassifier(11)\n",
    "knn.fit(x_train,y_train)\n",
    "print(knn.score(x_test,y_test))\n",
    "knn=KNeighborsClassifier(15)\n",
    "knn.fit(x_train,y_train)\n",
    "print(knn.score(x_test,y_test))"
   ]
  },
  {
   "cell_type": "code",
   "execution_count": 304,
   "id": "8e7ad677",
   "metadata": {},
   "outputs": [
    {
     "name": "stdout",
     "output_type": "stream",
     "text": [
      "0.7\n",
      "0.7\n",
      "0.7\n"
     ]
    }
   ],
   "source": [
    "x_train, x_test, y_train, y_test= train_test_split(x, y,\n",
    "                                                   test_size= 0.1,\n",
    "                                                   shuffle= True, #shuffle the data to avoid bias\n",
    "                                                   random_state= 0)\n",
    "knn=KNeighborsClassifier(9)\n",
    "knn.fit(x_train,y_train)\n",
    "print(knn.score(x_test,y_test))\n",
    "knn=KNeighborsClassifier(11)\n",
    "knn.fit(x_train,y_train)\n",
    "print(knn.score(x_test,y_test))\n",
    "knn=KNeighborsClassifier(15)\n",
    "knn.fit(x_train,y_train)\n",
    "print(knn.score(x_test,y_test))"
   ]
  },
  {
   "cell_type": "code",
   "execution_count": 305,
   "id": "af4ed183",
   "metadata": {},
   "outputs": [
    {
     "name": "stdout",
     "output_type": "stream",
     "text": [
      "0.6666666666666666\n",
      "0.6666666666666666\n",
      "0.6666666666666666\n"
     ]
    }
   ],
   "source": [
    "x_train, x_test, y_train, y_test= train_test_split(x, y,\n",
    "                                                   test_size= 0.3,\n",
    "                                                   shuffle= True, #shuffle the data to avoid bias\n",
    "                                                   random_state= 0)\n",
    "knn=KNeighborsClassifier(9)\n",
    "knn.fit(x_train,y_train)\n",
    "print(knn.score(x_test,y_test))\n",
    "knn=KNeighborsClassifier(11)\n",
    "knn.fit(x_train,y_train)\n",
    "print(knn.score(x_test,y_test))\n",
    "knn=KNeighborsClassifier(15)\n",
    "knn.fit(x_train,y_train)\n",
    "print(knn.score(x_test,y_test))"
   ]
  },
  {
   "cell_type": "markdown",
   "id": "6645e3cc",
   "metadata": {},
   "source": [
    "## K-Fold"
   ]
  },
  {
   "cell_type": "code",
   "execution_count": 307,
   "id": "83be0509",
   "metadata": {},
   "outputs": [],
   "source": [
    "from sklearn.model_selection import KFold"
   ]
  },
  {
   "cell_type": "code",
   "execution_count": 316,
   "id": "150ff02a",
   "metadata": {},
   "outputs": [
    {
     "ename": "KeyError",
     "evalue": "'[22, 24, 26, 27, 30, 33, 38, 40, 41, 42, 43, 45, 48, 51, 53, 54, 55, 56, 60, 61, 62, 63, 68, 71, 73, 74, 75, 76, 78] not in index'",
     "output_type": "error",
     "traceback": [
      "\u001b[1;31m---------------------------------------------------------------------------\u001b[0m",
      "\u001b[1;31mKeyError\u001b[0m                                  Traceback (most recent call last)",
      "\u001b[1;32m~\\AppData\\Local\\Temp/ipykernel_22604/1140331886.py\u001b[0m in \u001b[0;36m<module>\u001b[1;34m\u001b[0m\n\u001b[0;32m      9\u001b[0m   \u001b[1;32mfor\u001b[0m \u001b[0mnormalized_x_train_fold_idx\u001b[0m\u001b[1;33m,\u001b[0m \u001b[0mnormalized_x_valid_fold_idx\u001b[0m \u001b[1;32min\u001b[0m  \u001b[0mkf\u001b[0m\u001b[1;33m.\u001b[0m\u001b[0msplit\u001b[0m\u001b[1;33m(\u001b[0m\u001b[0mnormalized_x_train\u001b[0m\u001b[1;33m)\u001b[0m\u001b[1;33m:\u001b[0m \u001b[1;31m## Loop over the splits\u001b[0m\u001b[1;33m\u001b[0m\u001b[1;33m\u001b[0m\u001b[0m\n\u001b[0;32m     10\u001b[0m       \u001b[0mnormalized_x_train_fold\u001b[0m\u001b[1;33m=\u001b[0m \u001b[0mnormalized_x_train\u001b[0m\u001b[1;33m[\u001b[0m\u001b[0mnormalized_x_train_fold_idx\u001b[0m\u001b[1;33m]\u001b[0m \u001b[1;31m## fetch the values\u001b[0m\u001b[1;33m\u001b[0m\u001b[1;33m\u001b[0m\u001b[0m\n\u001b[1;32m---> 11\u001b[1;33m       \u001b[0my_train_fold\u001b[0m\u001b[1;33m=\u001b[0m \u001b[0my_train\u001b[0m\u001b[1;33m[\u001b[0m\u001b[0mnormalized_x_train_fold_idx\u001b[0m\u001b[1;33m]\u001b[0m\u001b[1;33m\u001b[0m\u001b[1;33m\u001b[0m\u001b[0m\n\u001b[0m\u001b[0;32m     12\u001b[0m \u001b[1;33m\u001b[0m\u001b[0m\n\u001b[0;32m     13\u001b[0m       \u001b[0mnormalized_x_test_fold\u001b[0m\u001b[1;33m=\u001b[0m \u001b[0mnormalized_x_train\u001b[0m\u001b[1;33m[\u001b[0m\u001b[0mnormalized_x_valid_fold_idx\u001b[0m\u001b[1;33m]\u001b[0m\u001b[1;33m\u001b[0m\u001b[1;33m\u001b[0m\u001b[0m\n",
      "\u001b[1;32m~\\miniconda3\\envs\\data\\lib\\site-packages\\pandas\\core\\series.py\u001b[0m in \u001b[0;36m__getitem__\u001b[1;34m(self, key)\u001b[0m\n\u001b[0;32m    964\u001b[0m             \u001b[1;32mreturn\u001b[0m \u001b[0mself\u001b[0m\u001b[1;33m.\u001b[0m\u001b[0m_get_values\u001b[0m\u001b[1;33m(\u001b[0m\u001b[0mkey\u001b[0m\u001b[1;33m)\u001b[0m\u001b[1;33m\u001b[0m\u001b[1;33m\u001b[0m\u001b[0m\n\u001b[0;32m    965\u001b[0m \u001b[1;33m\u001b[0m\u001b[0m\n\u001b[1;32m--> 966\u001b[1;33m         \u001b[1;32mreturn\u001b[0m \u001b[0mself\u001b[0m\u001b[1;33m.\u001b[0m\u001b[0m_get_with\u001b[0m\u001b[1;33m(\u001b[0m\u001b[0mkey\u001b[0m\u001b[1;33m)\u001b[0m\u001b[1;33m\u001b[0m\u001b[1;33m\u001b[0m\u001b[0m\n\u001b[0m\u001b[0;32m    967\u001b[0m \u001b[1;33m\u001b[0m\u001b[0m\n\u001b[0;32m    968\u001b[0m     \u001b[1;32mdef\u001b[0m \u001b[0m_get_with\u001b[0m\u001b[1;33m(\u001b[0m\u001b[0mself\u001b[0m\u001b[1;33m,\u001b[0m \u001b[0mkey\u001b[0m\u001b[1;33m)\u001b[0m\u001b[1;33m:\u001b[0m\u001b[1;33m\u001b[0m\u001b[1;33m\u001b[0m\u001b[0m\n",
      "\u001b[1;32m~\\miniconda3\\envs\\data\\lib\\site-packages\\pandas\\core\\series.py\u001b[0m in \u001b[0;36m_get_with\u001b[1;34m(self, key)\u001b[0m\n\u001b[0;32m    999\u001b[0m             \u001b[1;31m#  (i.e. self.iloc) or label-based (i.e. self.loc)\u001b[0m\u001b[1;33m\u001b[0m\u001b[1;33m\u001b[0m\u001b[0m\n\u001b[0;32m   1000\u001b[0m             \u001b[1;32mif\u001b[0m \u001b[1;32mnot\u001b[0m \u001b[0mself\u001b[0m\u001b[1;33m.\u001b[0m\u001b[0mindex\u001b[0m\u001b[1;33m.\u001b[0m\u001b[0m_should_fallback_to_positional\u001b[0m\u001b[1;33m(\u001b[0m\u001b[1;33m)\u001b[0m\u001b[1;33m:\u001b[0m\u001b[1;33m\u001b[0m\u001b[1;33m\u001b[0m\u001b[0m\n\u001b[1;32m-> 1001\u001b[1;33m                 \u001b[1;32mreturn\u001b[0m \u001b[0mself\u001b[0m\u001b[1;33m.\u001b[0m\u001b[0mloc\u001b[0m\u001b[1;33m[\u001b[0m\u001b[0mkey\u001b[0m\u001b[1;33m]\u001b[0m\u001b[1;33m\u001b[0m\u001b[1;33m\u001b[0m\u001b[0m\n\u001b[0m\u001b[0;32m   1002\u001b[0m             \u001b[1;32melse\u001b[0m\u001b[1;33m:\u001b[0m\u001b[1;33m\u001b[0m\u001b[1;33m\u001b[0m\u001b[0m\n\u001b[0;32m   1003\u001b[0m                 \u001b[1;32mreturn\u001b[0m \u001b[0mself\u001b[0m\u001b[1;33m.\u001b[0m\u001b[0miloc\u001b[0m\u001b[1;33m[\u001b[0m\u001b[0mkey\u001b[0m\u001b[1;33m]\u001b[0m\u001b[1;33m\u001b[0m\u001b[1;33m\u001b[0m\u001b[0m\n",
      "\u001b[1;32m~\\miniconda3\\envs\\data\\lib\\site-packages\\pandas\\core\\indexing.py\u001b[0m in \u001b[0;36m__getitem__\u001b[1;34m(self, key)\u001b[0m\n\u001b[0;32m    929\u001b[0m \u001b[1;33m\u001b[0m\u001b[0m\n\u001b[0;32m    930\u001b[0m             \u001b[0mmaybe_callable\u001b[0m \u001b[1;33m=\u001b[0m \u001b[0mcom\u001b[0m\u001b[1;33m.\u001b[0m\u001b[0mapply_if_callable\u001b[0m\u001b[1;33m(\u001b[0m\u001b[0mkey\u001b[0m\u001b[1;33m,\u001b[0m \u001b[0mself\u001b[0m\u001b[1;33m.\u001b[0m\u001b[0mobj\u001b[0m\u001b[1;33m)\u001b[0m\u001b[1;33m\u001b[0m\u001b[1;33m\u001b[0m\u001b[0m\n\u001b[1;32m--> 931\u001b[1;33m             \u001b[1;32mreturn\u001b[0m \u001b[0mself\u001b[0m\u001b[1;33m.\u001b[0m\u001b[0m_getitem_axis\u001b[0m\u001b[1;33m(\u001b[0m\u001b[0mmaybe_callable\u001b[0m\u001b[1;33m,\u001b[0m \u001b[0maxis\u001b[0m\u001b[1;33m=\u001b[0m\u001b[0maxis\u001b[0m\u001b[1;33m)\u001b[0m\u001b[1;33m\u001b[0m\u001b[1;33m\u001b[0m\u001b[0m\n\u001b[0m\u001b[0;32m    932\u001b[0m \u001b[1;33m\u001b[0m\u001b[0m\n\u001b[0;32m    933\u001b[0m     \u001b[1;32mdef\u001b[0m \u001b[0m_is_scalar_access\u001b[0m\u001b[1;33m(\u001b[0m\u001b[0mself\u001b[0m\u001b[1;33m,\u001b[0m \u001b[0mkey\u001b[0m\u001b[1;33m:\u001b[0m \u001b[0mtuple\u001b[0m\u001b[1;33m)\u001b[0m\u001b[1;33m:\u001b[0m\u001b[1;33m\u001b[0m\u001b[1;33m\u001b[0m\u001b[0m\n",
      "\u001b[1;32m~\\miniconda3\\envs\\data\\lib\\site-packages\\pandas\\core\\indexing.py\u001b[0m in \u001b[0;36m_getitem_axis\u001b[1;34m(self, key, axis)\u001b[0m\n\u001b[0;32m   1151\u001b[0m                     \u001b[1;32mraise\u001b[0m \u001b[0mValueError\u001b[0m\u001b[1;33m(\u001b[0m\u001b[1;34m\"Cannot index with multidimensional key\"\u001b[0m\u001b[1;33m)\u001b[0m\u001b[1;33m\u001b[0m\u001b[1;33m\u001b[0m\u001b[0m\n\u001b[0;32m   1152\u001b[0m \u001b[1;33m\u001b[0m\u001b[0m\n\u001b[1;32m-> 1153\u001b[1;33m                 \u001b[1;32mreturn\u001b[0m \u001b[0mself\u001b[0m\u001b[1;33m.\u001b[0m\u001b[0m_getitem_iterable\u001b[0m\u001b[1;33m(\u001b[0m\u001b[0mkey\u001b[0m\u001b[1;33m,\u001b[0m \u001b[0maxis\u001b[0m\u001b[1;33m=\u001b[0m\u001b[0maxis\u001b[0m\u001b[1;33m)\u001b[0m\u001b[1;33m\u001b[0m\u001b[1;33m\u001b[0m\u001b[0m\n\u001b[0m\u001b[0;32m   1154\u001b[0m \u001b[1;33m\u001b[0m\u001b[0m\n\u001b[0;32m   1155\u001b[0m             \u001b[1;31m# nested tuple slicing\u001b[0m\u001b[1;33m\u001b[0m\u001b[1;33m\u001b[0m\u001b[0m\n",
      "\u001b[1;32m~\\miniconda3\\envs\\data\\lib\\site-packages\\pandas\\core\\indexing.py\u001b[0m in \u001b[0;36m_getitem_iterable\u001b[1;34m(self, key, axis)\u001b[0m\n\u001b[0;32m   1091\u001b[0m \u001b[1;33m\u001b[0m\u001b[0m\n\u001b[0;32m   1092\u001b[0m         \u001b[1;31m# A collection of keys\u001b[0m\u001b[1;33m\u001b[0m\u001b[1;33m\u001b[0m\u001b[0m\n\u001b[1;32m-> 1093\u001b[1;33m         \u001b[0mkeyarr\u001b[0m\u001b[1;33m,\u001b[0m \u001b[0mindexer\u001b[0m \u001b[1;33m=\u001b[0m \u001b[0mself\u001b[0m\u001b[1;33m.\u001b[0m\u001b[0m_get_listlike_indexer\u001b[0m\u001b[1;33m(\u001b[0m\u001b[0mkey\u001b[0m\u001b[1;33m,\u001b[0m \u001b[0maxis\u001b[0m\u001b[1;33m)\u001b[0m\u001b[1;33m\u001b[0m\u001b[1;33m\u001b[0m\u001b[0m\n\u001b[0m\u001b[0;32m   1094\u001b[0m         return self.obj._reindex_with_indexers(\n\u001b[0;32m   1095\u001b[0m             \u001b[1;33m{\u001b[0m\u001b[0maxis\u001b[0m\u001b[1;33m:\u001b[0m \u001b[1;33m[\u001b[0m\u001b[0mkeyarr\u001b[0m\u001b[1;33m,\u001b[0m \u001b[0mindexer\u001b[0m\u001b[1;33m]\u001b[0m\u001b[1;33m}\u001b[0m\u001b[1;33m,\u001b[0m \u001b[0mcopy\u001b[0m\u001b[1;33m=\u001b[0m\u001b[1;32mTrue\u001b[0m\u001b[1;33m,\u001b[0m \u001b[0mallow_dups\u001b[0m\u001b[1;33m=\u001b[0m\u001b[1;32mTrue\u001b[0m\u001b[1;33m\u001b[0m\u001b[1;33m\u001b[0m\u001b[0m\n",
      "\u001b[1;32m~\\miniconda3\\envs\\data\\lib\\site-packages\\pandas\\core\\indexing.py\u001b[0m in \u001b[0;36m_get_listlike_indexer\u001b[1;34m(self, key, axis)\u001b[0m\n\u001b[0;32m   1312\u001b[0m             \u001b[0mkeyarr\u001b[0m\u001b[1;33m,\u001b[0m \u001b[0mindexer\u001b[0m\u001b[1;33m,\u001b[0m \u001b[0mnew_indexer\u001b[0m \u001b[1;33m=\u001b[0m \u001b[0max\u001b[0m\u001b[1;33m.\u001b[0m\u001b[0m_reindex_non_unique\u001b[0m\u001b[1;33m(\u001b[0m\u001b[0mkeyarr\u001b[0m\u001b[1;33m)\u001b[0m\u001b[1;33m\u001b[0m\u001b[1;33m\u001b[0m\u001b[0m\n\u001b[0;32m   1313\u001b[0m \u001b[1;33m\u001b[0m\u001b[0m\n\u001b[1;32m-> 1314\u001b[1;33m         \u001b[0mself\u001b[0m\u001b[1;33m.\u001b[0m\u001b[0m_validate_read_indexer\u001b[0m\u001b[1;33m(\u001b[0m\u001b[0mkeyarr\u001b[0m\u001b[1;33m,\u001b[0m \u001b[0mindexer\u001b[0m\u001b[1;33m,\u001b[0m \u001b[0maxis\u001b[0m\u001b[1;33m)\u001b[0m\u001b[1;33m\u001b[0m\u001b[1;33m\u001b[0m\u001b[0m\n\u001b[0m\u001b[0;32m   1315\u001b[0m \u001b[1;33m\u001b[0m\u001b[0m\n\u001b[0;32m   1316\u001b[0m         if needs_i8_conversion(ax.dtype) or isinstance(\n",
      "\u001b[1;32m~\\miniconda3\\envs\\data\\lib\\site-packages\\pandas\\core\\indexing.py\u001b[0m in \u001b[0;36m_validate_read_indexer\u001b[1;34m(self, key, indexer, axis)\u001b[0m\n\u001b[0;32m   1375\u001b[0m \u001b[1;33m\u001b[0m\u001b[0m\n\u001b[0;32m   1376\u001b[0m             \u001b[0mnot_found\u001b[0m \u001b[1;33m=\u001b[0m \u001b[0mlist\u001b[0m\u001b[1;33m(\u001b[0m\u001b[0mensure_index\u001b[0m\u001b[1;33m(\u001b[0m\u001b[0mkey\u001b[0m\u001b[1;33m)\u001b[0m\u001b[1;33m[\u001b[0m\u001b[0mmissing_mask\u001b[0m\u001b[1;33m.\u001b[0m\u001b[0mnonzero\u001b[0m\u001b[1;33m(\u001b[0m\u001b[1;33m)\u001b[0m\u001b[1;33m[\u001b[0m\u001b[1;36m0\u001b[0m\u001b[1;33m]\u001b[0m\u001b[1;33m]\u001b[0m\u001b[1;33m.\u001b[0m\u001b[0munique\u001b[0m\u001b[1;33m(\u001b[0m\u001b[1;33m)\u001b[0m\u001b[1;33m)\u001b[0m\u001b[1;33m\u001b[0m\u001b[1;33m\u001b[0m\u001b[0m\n\u001b[1;32m-> 1377\u001b[1;33m             \u001b[1;32mraise\u001b[0m \u001b[0mKeyError\u001b[0m\u001b[1;33m(\u001b[0m\u001b[1;34mf\"{not_found} not in index\"\u001b[0m\u001b[1;33m)\u001b[0m\u001b[1;33m\u001b[0m\u001b[1;33m\u001b[0m\u001b[0m\n\u001b[0m\u001b[0;32m   1378\u001b[0m \u001b[1;33m\u001b[0m\u001b[0m\n\u001b[0;32m   1379\u001b[0m \u001b[1;33m\u001b[0m\u001b[0m\n",
      "\u001b[1;31mKeyError\u001b[0m: '[22, 24, 26, 27, 30, 33, 38, 40, 41, 42, 43, 45, 48, 51, 53, 54, 55, 56, 60, 61, 62, 63, 68, 71, 73, 74, 75, 76, 78] not in index'"
     ]
    }
   ],
   "source": [
    "n_splits= 4 ## Choose the number of splits\n",
    "kf= KFold(n_splits= n_splits) ## Call the K Fold function\n",
    "\n",
    "accuracy_k= [] ## Keep track of the accuracy for each K\n",
    "k_values= list(range(1,30,2)) ## Search for the best value of K\n",
    "\n",
    "for k in k_values: ## Loop over the K values\n",
    "  accuracy_fold= 0\n",
    "  for normalized_x_train_fold_idx, normalized_x_valid_fold_idx in  kf.split(normalized_x_train): ## Loop over the splits\n",
    "      normalized_x_train_fold= normalized_x_train[normalized_x_train_fold_idx] ## fetch the values\n",
    "      y_train_fold= y_train[normalized_x_train_fold_idx]\n",
    "\n",
    "      normalized_x_test_fold= normalized_x_train[normalized_x_valid_fold_idx]\n",
    "      y_valid_fold= y_train[normalized_x_valid_fold_idx]\n",
    "      y_pred_fold= KNN_from_scratch(normalized_x_train_fold, y_train_fold, normalized_x_test_fold, k)\n",
    "\n",
    "      accuracy_fold+= accuracy_score (y_pred_fold, y_valid_fold) ## Accumulate the accuracy\n",
    "  accuracy_fold= accuracy_fold/ n_splits ## Divide by the number of splits\n",
    "  accuracy_k.append(accuracy_fold)"
   ]
  },
  {
   "cell_type": "code",
   "execution_count": null,
   "id": "8d1993de",
   "metadata": {},
   "outputs": [],
   "source": []
  }
 ],
 "metadata": {
  "kernelspec": {
   "display_name": "Python 3 (ipykernel)",
   "language": "python",
   "name": "python3"
  },
  "language_info": {
   "codemirror_mode": {
    "name": "ipython",
    "version": 3
   },
   "file_extension": ".py",
   "mimetype": "text/x-python",
   "name": "python",
   "nbconvert_exporter": "python",
   "pygments_lexer": "ipython3",
   "version": "3.9.7"
  }
 },
 "nbformat": 4,
 "nbformat_minor": 5
}
